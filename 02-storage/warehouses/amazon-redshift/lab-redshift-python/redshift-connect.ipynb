{
  "cells": [
    {
      "cell_type": "code",
      "execution_count": 1,
      "metadata": {
        "id": "cbCNHOkGRh1e"
      },
      "outputs": [],
      "source": [
        "import pandas as pd\n",
        "import psycopg2\n",
        "from sqlalchemy import create_engine\n",
        "from sqlalchemy import text"
      ]
    },
    {
      "cell_type": "code",
      "execution_count": 2,
      "metadata": {
        "id": "SvB3dCoXRyBb"
      },
      "outputs": [],
      "source": [
        "def get_secret(secret_name='wysde'):\n",
        "    import boto3\n",
        "    import json\n",
        "    region_name = \"us-east-1\"\n",
        "    session = boto3.session.Session()\n",
        "    client = session.client(\n",
        "        service_name='secretsmanager',\n",
        "        region_name=region_name)\n",
        "    get_secret_value_response = client.get_secret_value(SecretId=secret_name)\n",
        "    get_secret_value_response = json.loads(get_secret_value_response['SecretString'])\n",
        "    return get_secret_value_response\n",
        "\n",
        "secret_vals = get_secret()\n",
        "\n",
        "redshift_endpoint1 = secret_vals['REDSHIFT_HOST']\n",
        "redshift_user1 = secret_vals['REDSHIFT_USERNAME']\n",
        "redshift_pass1 = secret_vals['REDSHIFT_PASSWORD']\n",
        "port1 = 5439\n",
        "dbname1 = \"dev\""
      ]
    },
    {
      "cell_type": "code",
      "execution_count": 3,
      "metadata": {
        "id": "SHs9Cki9R1wB"
      },
      "outputs": [],
      "source": [
        "engine_string = \"postgresql+psycopg2://%s:%s@%s:%d/%s\" \\\n",
        "% (redshift_user1, redshift_pass1, redshift_endpoint1, port1, dbname1)\n",
        "engine = create_engine(engine_string)"
      ]
    },
    {
      "cell_type": "code",
      "execution_count": 4,
      "metadata": {
        "colab": {
          "base_uri": "https://localhost:8080/",
          "height": 300
        },
        "id": "lU-U-lcRasgg",
        "outputId": "be9daa5c-3cb3-4179-9131-f2486566d16a"
      },
      "outputs": [
        {
          "data": {
            "text/html": [
              "<div>\n",
              "<style scoped>\n",
              "    .dataframe tbody tr th:only-of-type {\n",
              "        vertical-align: middle;\n",
              "    }\n",
              "\n",
              "    .dataframe tbody tr th {\n",
              "        vertical-align: top;\n",
              "    }\n",
              "\n",
              "    .dataframe thead th {\n",
              "        text-align: right;\n",
              "    }\n",
              "</style>\n",
              "<table border=\"1\" class=\"dataframe\">\n",
              "  <thead>\n",
              "    <tr style=\"text-align: right;\">\n",
              "      <th></th>\n",
              "      <th>schemaname</th>\n",
              "      <th>tablename</th>\n",
              "      <th>tableowner</th>\n",
              "      <th>tablespace</th>\n",
              "      <th>hasindexes</th>\n",
              "      <th>hasrules</th>\n",
              "      <th>hastriggers</th>\n",
              "    </tr>\n",
              "  </thead>\n",
              "  <tbody>\n",
              "    <tr>\n",
              "      <th>0</th>\n",
              "      <td>pg_internal</td>\n",
              "      <td>redshift_auto_health_check_13983357</td>\n",
              "      <td>rdsdb</td>\n",
              "      <td>None</td>\n",
              "      <td>False</td>\n",
              "      <td>False</td>\n",
              "      <td>False</td>\n",
              "    </tr>\n",
              "    <tr>\n",
              "      <th>1</th>\n",
              "      <td>public</td>\n",
              "      <td>dwdate</td>\n",
              "      <td>admin</td>\n",
              "      <td>None</td>\n",
              "      <td>False</td>\n",
              "      <td>False</td>\n",
              "      <td>False</td>\n",
              "    </tr>\n",
              "    <tr>\n",
              "      <th>2</th>\n",
              "      <td>public</td>\n",
              "      <td>lineitem</td>\n",
              "      <td>admin</td>\n",
              "      <td>None</td>\n",
              "      <td>False</td>\n",
              "      <td>False</td>\n",
              "      <td>False</td>\n",
              "    </tr>\n",
              "    <tr>\n",
              "      <th>3</th>\n",
              "      <td>public</td>\n",
              "      <td>supplier</td>\n",
              "      <td>admin</td>\n",
              "      <td>None</td>\n",
              "      <td>False</td>\n",
              "      <td>False</td>\n",
              "      <td>False</td>\n",
              "    </tr>\n",
              "    <tr>\n",
              "      <th>4</th>\n",
              "      <td>public</td>\n",
              "      <td>part</td>\n",
              "      <td>admin</td>\n",
              "      <td>None</td>\n",
              "      <td>False</td>\n",
              "      <td>False</td>\n",
              "      <td>False</td>\n",
              "    </tr>\n",
              "    <tr>\n",
              "      <th>5</th>\n",
              "      <td>public</td>\n",
              "      <td>orders</td>\n",
              "      <td>admin</td>\n",
              "      <td>None</td>\n",
              "      <td>False</td>\n",
              "      <td>False</td>\n",
              "      <td>False</td>\n",
              "    </tr>\n",
              "    <tr>\n",
              "      <th>6</th>\n",
              "      <td>public</td>\n",
              "      <td>customer</td>\n",
              "      <td>admin</td>\n",
              "      <td>None</td>\n",
              "      <td>False</td>\n",
              "      <td>False</td>\n",
              "      <td>False</td>\n",
              "    </tr>\n",
              "  </tbody>\n",
              "</table>\n",
              "</div>"
            ],
            "text/plain": [
              "    schemaname                            tablename tableowner tablespace  \\\n",
              "0  pg_internal  redshift_auto_health_check_13983357      rdsdb       None   \n",
              "1       public                               dwdate      admin       None   \n",
              "2       public                             lineitem      admin       None   \n",
              "3       public                             supplier      admin       None   \n",
              "4       public                                 part      admin       None   \n",
              "5       public                               orders      admin       None   \n",
              "6       public                             customer      admin       None   \n",
              "\n",
              "   hasindexes  hasrules  hastriggers  \n",
              "0       False     False        False  \n",
              "1       False     False        False  \n",
              "2       False     False        False  \n",
              "3       False     False        False  \n",
              "4       False     False        False  \n",
              "5       False     False        False  \n",
              "6       False     False        False  "
            ]
          },
          "execution_count": 4,
          "metadata": {},
          "output_type": "execute_result"
        }
      ],
      "source": [
        "query = \"\"\"\n",
        "SELECT *\n",
        "FROM pg_catalog.pg_tables\n",
        "WHERE schemaname != 'pg_catalog' AND \n",
        "    schemaname != 'information_schema';\n",
        "\"\"\"\n",
        "\n",
        "df = pd.read_sql_query(text(query), engine)\n",
        "df"
      ]
    },
    {
      "cell_type": "code",
      "execution_count": 11,
      "metadata": {
        "colab": {
          "base_uri": "https://localhost:8080/",
          "height": 835
        },
        "id": "84xYwBJtRuEV",
        "outputId": "a7515fd9-37b8-4dc5-e8cf-269dc1be0d8c"
      },
      "outputs": [
        {
          "data": {
            "text/html": [
              "<div>\n",
              "<style scoped>\n",
              "    .dataframe tbody tr th:only-of-type {\n",
              "        vertical-align: middle;\n",
              "    }\n",
              "\n",
              "    .dataframe tbody tr th {\n",
              "        vertical-align: top;\n",
              "    }\n",
              "\n",
              "    .dataframe thead th {\n",
              "        text-align: right;\n",
              "    }\n",
              "</style>\n",
              "<table border=\"1\" class=\"dataframe\">\n",
              "  <thead>\n",
              "    <tr style=\"text-align: right;\">\n",
              "      <th></th>\n",
              "      <th>o_orderkey</th>\n",
              "      <th>o_custkey</th>\n",
              "      <th>o_orderstatus</th>\n",
              "      <th>o_totalprice</th>\n",
              "      <th>o_orderdate</th>\n",
              "      <th>o_orderpriority</th>\n",
              "      <th>o_clerk</th>\n",
              "      <th>o_shippriority</th>\n",
              "      <th>o_comment</th>\n",
              "    </tr>\n",
              "  </thead>\n",
              "  <tbody>\n",
              "  </tbody>\n",
              "</table>\n",
              "</div>"
            ],
            "text/plain": [
              "Empty DataFrame\n",
              "Columns: [o_orderkey, o_custkey, o_orderstatus, o_totalprice, o_orderdate, o_orderpriority, o_clerk, o_shippriority, o_comment]\n",
              "Index: []"
            ]
          },
          "execution_count": 11,
          "metadata": {},
          "output_type": "execute_result"
        }
      ],
      "source": [
        "query = \"\"\"\n",
        "SELECT * FROM \"dev\".\"public\".\"orders\" limit 10;\n",
        "\"\"\"\n",
        "\n",
        "df = pd.read_sql_query(text(query), engine)\n",
        "df"
      ]
    }
  ],
  "metadata": {
    "colab": {
      "collapsed_sections": [],
      "name": "Data Engineering | Lab | Create Amazon Redshift Warehouse and connect with Python",
      "provenance": []
    },
    "kernelspec": {
      "display_name": "Python 3.9.7 ('env-spacy')",
      "language": "python",
      "name": "python3"
    },
    "language_info": {
      "codemirror_mode": {
        "name": "ipython",
        "version": 3
      },
      "file_extension": ".py",
      "mimetype": "text/x-python",
      "name": "python",
      "nbconvert_exporter": "python",
      "pygments_lexer": "ipython3",
      "version": "3.9.7"
    },
    "vscode": {
      "interpreter": {
        "hash": "343191058819caea96d5cde1bd3b1a75b4807623ce2cda0e1c8499e39ac847e3"
      }
    }
  },
  "nbformat": 4,
  "nbformat_minor": 0
}

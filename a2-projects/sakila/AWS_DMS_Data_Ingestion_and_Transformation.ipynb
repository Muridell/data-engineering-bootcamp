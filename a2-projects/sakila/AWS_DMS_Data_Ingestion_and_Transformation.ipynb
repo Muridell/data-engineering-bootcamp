{
  "cells": [
    {
      "cell_type": "code",
      "execution_count": null,
      "metadata": {
        "id": "IV2MBGa8FXca"
      },
      "outputs": [],
      "source": [
        "!mkdir -p ~/.aws && cp /content/drive/MyDrive/AWS/d01_admin/* ~/.aws\n",
        "!chmod 600 ~/.aws/credentials\n",
        "!pip install awscli"
      ]
    },
    {
      "cell_type": "code",
      "execution_count": null,
      "metadata": {
        "id": "O2EVGp7yyLTY"
      },
      "outputs": [],
      "source": [
        "%%capture\n",
        "!pip install pymysql mariadb"
      ]
    },
    {
      "cell_type": "code",
      "execution_count": null,
      "metadata": {
        "id": "nEeRrtiuoaGc"
      },
      "outputs": [],
      "source": [
        "%reload_ext sql"
      ]
    },
    {
      "cell_type": "code",
      "execution_count": null,
      "metadata": {
        "id": "SdbAcTI6lWl2"
      },
      "outputs": [],
      "source": [
        "import pandas as pd\n",
        "from sqlalchemy import create_engine\n",
        "import boto3\n",
        "import json"
      ]
    },
    {
      "cell_type": "code",
      "execution_count": null,
      "metadata": {
        "id": "_Hqtk0dSxb_V"
      },
      "outputs": [],
      "source": [
        "def get_secret(secret_name):\n",
        "    region_name = \"us-east-1\"\n",
        "    session = boto3.session.Session()\n",
        "    client = session.client(\n",
        "        service_name='secretsmanager',\n",
        "        region_name=region_name)\n",
        "    get_secret_value_response = client.get_secret_value(SecretId=secret_name)\n",
        "    get_secret_value_response = json.loads(get_secret_value_response['SecretString'])\n",
        "    return get_secret_value_response\n",
        "\n",
        "db_credentials = get_secret(secret_name='dev/detraining/rdssql')\n",
        "\n",
        "USERNAME = db_credentials[\"sparsh_rds_postgres_username\"]\n",
        "PASSWORD = db_credentials[\"sparsh_rds_postgres_password\"]\n",
        "HOST = db_credentials[\"sparsh_rds_postgres_host\"]\n",
        "PORT = db_credentials[\"sparsh_rds_postgres_port\"]\n",
        "DBNAME = \"sakila\"\n",
        "\n",
        "CONN = f\"mysql+pymysql://{USERNAME}:{PASSWORD}@{HOST}:{PORT}/{DBNAME}\""
      ]
    },
    {
      "cell_type": "code",
      "execution_count": null,
      "metadata": {
        "id": "AgI4YLqr09vl"
      },
      "outputs": [],
      "source": [
        "engine = create_engine(CONN)"
      ]
    },
    {
      "cell_type": "code",
      "execution_count": null,
      "metadata": {
        "colab": {
          "base_uri": "https://localhost:8080/",
          "height": 363
        },
        "id": "fpmE8ESdLgy1",
        "outputId": "4b7d485e-ad71-42a2-9f63-5709e8fcee00"
      },
      "outputs": [
        {
          "data": {
            "text/html": [
              "\n",
              "  <div id=\"df-b78c9e5d-4aac-4e6d-8ded-c571573b987b\">\n",
              "    <div class=\"colab-df-container\">\n",
              "      <div>\n",
              "<style scoped>\n",
              "    .dataframe tbody tr th:only-of-type {\n",
              "        vertical-align: middle;\n",
              "    }\n",
              "\n",
              "    .dataframe tbody tr th {\n",
              "        vertical-align: top;\n",
              "    }\n",
              "\n",
              "    .dataframe thead th {\n",
              "        text-align: right;\n",
              "    }\n",
              "</style>\n",
              "<table border=\"1\" class=\"dataframe\">\n",
              "  <thead>\n",
              "    <tr style=\"text-align: right;\">\n",
              "      <th></th>\n",
              "      <th>actor_id</th>\n",
              "      <th>first_name</th>\n",
              "      <th>last_name</th>\n",
              "      <th>last_update</th>\n",
              "    </tr>\n",
              "  </thead>\n",
              "  <tbody>\n",
              "    <tr>\n",
              "      <th>0</th>\n",
              "      <td>1</td>\n",
              "      <td>PENELOPE</td>\n",
              "      <td>GUINESS</td>\n",
              "      <td>2006-02-15 04:34:33</td>\n",
              "    </tr>\n",
              "    <tr>\n",
              "      <th>1</th>\n",
              "      <td>2</td>\n",
              "      <td>NICK</td>\n",
              "      <td>WAHLBERG</td>\n",
              "      <td>2006-02-15 04:34:33</td>\n",
              "    </tr>\n",
              "    <tr>\n",
              "      <th>2</th>\n",
              "      <td>3</td>\n",
              "      <td>ED</td>\n",
              "      <td>CHASE</td>\n",
              "      <td>2006-02-15 04:34:33</td>\n",
              "    </tr>\n",
              "    <tr>\n",
              "      <th>3</th>\n",
              "      <td>4</td>\n",
              "      <td>JENNIFER</td>\n",
              "      <td>DAVIS</td>\n",
              "      <td>2006-02-15 04:34:33</td>\n",
              "    </tr>\n",
              "    <tr>\n",
              "      <th>4</th>\n",
              "      <td>5</td>\n",
              "      <td>JOHNNY</td>\n",
              "      <td>LOLLOBRIGIDA</td>\n",
              "      <td>2006-02-15 04:34:33</td>\n",
              "    </tr>\n",
              "    <tr>\n",
              "      <th>5</th>\n",
              "      <td>6</td>\n",
              "      <td>BETTE</td>\n",
              "      <td>NICHOLSON</td>\n",
              "      <td>2006-02-15 04:34:33</td>\n",
              "    </tr>\n",
              "    <tr>\n",
              "      <th>6</th>\n",
              "      <td>7</td>\n",
              "      <td>GRACE</td>\n",
              "      <td>MOSTEL</td>\n",
              "      <td>2006-02-15 04:34:33</td>\n",
              "    </tr>\n",
              "    <tr>\n",
              "      <th>7</th>\n",
              "      <td>8</td>\n",
              "      <td>MATTHEW</td>\n",
              "      <td>JOHANSSON</td>\n",
              "      <td>2006-02-15 04:34:33</td>\n",
              "    </tr>\n",
              "    <tr>\n",
              "      <th>8</th>\n",
              "      <td>9</td>\n",
              "      <td>JOE</td>\n",
              "      <td>SWANK</td>\n",
              "      <td>2006-02-15 04:34:33</td>\n",
              "    </tr>\n",
              "    <tr>\n",
              "      <th>9</th>\n",
              "      <td>10</td>\n",
              "      <td>CHRISTIAN</td>\n",
              "      <td>GABLE</td>\n",
              "      <td>2006-02-15 04:34:33</td>\n",
              "    </tr>\n",
              "  </tbody>\n",
              "</table>\n",
              "</div>\n",
              "      <button class=\"colab-df-convert\" onclick=\"convertToInteractive('df-b78c9e5d-4aac-4e6d-8ded-c571573b987b')\"\n",
              "              title=\"Convert this dataframe to an interactive table.\"\n",
              "              style=\"display:none;\">\n",
              "        \n",
              "  <svg xmlns=\"http://www.w3.org/2000/svg\" height=\"24px\"viewBox=\"0 0 24 24\"\n",
              "       width=\"24px\">\n",
              "    <path d=\"M0 0h24v24H0V0z\" fill=\"none\"/>\n",
              "    <path d=\"M18.56 5.44l.94 2.06.94-2.06 2.06-.94-2.06-.94-.94-2.06-.94 2.06-2.06.94zm-11 1L8.5 8.5l.94-2.06 2.06-.94-2.06-.94L8.5 2.5l-.94 2.06-2.06.94zm10 10l.94 2.06.94-2.06 2.06-.94-2.06-.94-.94-2.06-.94 2.06-2.06.94z\"/><path d=\"M17.41 7.96l-1.37-1.37c-.4-.4-.92-.59-1.43-.59-.52 0-1.04.2-1.43.59L10.3 9.45l-7.72 7.72c-.78.78-.78 2.05 0 2.83L4 21.41c.39.39.9.59 1.41.59.51 0 1.02-.2 1.41-.59l7.78-7.78 2.81-2.81c.8-.78.8-2.07 0-2.86zM5.41 20L4 18.59l7.72-7.72 1.47 1.35L5.41 20z\"/>\n",
              "  </svg>\n",
              "      </button>\n",
              "      \n",
              "  <style>\n",
              "    .colab-df-container {\n",
              "      display:flex;\n",
              "      flex-wrap:wrap;\n",
              "      gap: 12px;\n",
              "    }\n",
              "\n",
              "    .colab-df-convert {\n",
              "      background-color: #E8F0FE;\n",
              "      border: none;\n",
              "      border-radius: 50%;\n",
              "      cursor: pointer;\n",
              "      display: none;\n",
              "      fill: #1967D2;\n",
              "      height: 32px;\n",
              "      padding: 0 0 0 0;\n",
              "      width: 32px;\n",
              "    }\n",
              "\n",
              "    .colab-df-convert:hover {\n",
              "      background-color: #E2EBFA;\n",
              "      box-shadow: 0px 1px 2px rgba(60, 64, 67, 0.3), 0px 1px 3px 1px rgba(60, 64, 67, 0.15);\n",
              "      fill: #174EA6;\n",
              "    }\n",
              "\n",
              "    [theme=dark] .colab-df-convert {\n",
              "      background-color: #3B4455;\n",
              "      fill: #D2E3FC;\n",
              "    }\n",
              "\n",
              "    [theme=dark] .colab-df-convert:hover {\n",
              "      background-color: #434B5C;\n",
              "      box-shadow: 0px 1px 3px 1px rgba(0, 0, 0, 0.15);\n",
              "      filter: drop-shadow(0px 1px 2px rgba(0, 0, 0, 0.3));\n",
              "      fill: #FFFFFF;\n",
              "    }\n",
              "  </style>\n",
              "\n",
              "      <script>\n",
              "        const buttonEl =\n",
              "          document.querySelector('#df-b78c9e5d-4aac-4e6d-8ded-c571573b987b button.colab-df-convert');\n",
              "        buttonEl.style.display =\n",
              "          google.colab.kernel.accessAllowed ? 'block' : 'none';\n",
              "\n",
              "        async function convertToInteractive(key) {\n",
              "          const element = document.querySelector('#df-b78c9e5d-4aac-4e6d-8ded-c571573b987b');\n",
              "          const dataTable =\n",
              "            await google.colab.kernel.invokeFunction('convertToInteractive',\n",
              "                                                     [key], {});\n",
              "          if (!dataTable) return;\n",
              "\n",
              "          const docLinkHtml = 'Like what you see? Visit the ' +\n",
              "            '<a target=\"_blank\" href=https://colab.research.google.com/notebooks/data_table.ipynb>data table notebook</a>'\n",
              "            + ' to learn more about interactive tables.';\n",
              "          element.innerHTML = '';\n",
              "          dataTable['output_type'] = 'display_data';\n",
              "          await google.colab.output.renderOutput(dataTable, element);\n",
              "          const docLink = document.createElement('div');\n",
              "          docLink.innerHTML = docLinkHtml;\n",
              "          element.appendChild(docLink);\n",
              "        }\n",
              "      </script>\n",
              "    </div>\n",
              "  </div>\n",
              "  "
            ],
            "text/plain": [
              "   actor_id first_name     last_name         last_update\n",
              "0         1   PENELOPE       GUINESS 2006-02-15 04:34:33\n",
              "1         2       NICK      WAHLBERG 2006-02-15 04:34:33\n",
              "2         3         ED         CHASE 2006-02-15 04:34:33\n",
              "3         4   JENNIFER         DAVIS 2006-02-15 04:34:33\n",
              "4         5     JOHNNY  LOLLOBRIGIDA 2006-02-15 04:34:33\n",
              "5         6      BETTE     NICHOLSON 2006-02-15 04:34:33\n",
              "6         7      GRACE        MOSTEL 2006-02-15 04:34:33\n",
              "7         8    MATTHEW     JOHANSSON 2006-02-15 04:34:33\n",
              "8         9        JOE         SWANK 2006-02-15 04:34:33\n",
              "9        10  CHRISTIAN         GABLE 2006-02-15 04:34:33"
            ]
          },
          "execution_count": 88,
          "metadata": {},
          "output_type": "execute_result"
        }
      ],
      "source": [
        "pd.read_sql(\"SELECT * FROM actor LIMIT 10;\", CONN)"
      ]
    },
    {
      "cell_type": "code",
      "execution_count": null,
      "metadata": {
        "id": "cQXEt51dwfg-"
      },
      "outputs": [],
      "source": [
        "# !wget -q --show-progress https://downloads.mysql.com/docs/sakila-db.zip -O sakila.zip\n",
        "# !unzip sakila.zip\n",
        "# ref https://aws.amazon.com/premiumsupport/knowledge-center/rds-mysql-functions/"
      ]
    },
    {
      "cell_type": "code",
      "execution_count": null,
      "metadata": {
        "colab": {
          "base_uri": "https://localhost:8080/"
        },
        "id": "B4RXzloM2jwj",
        "outputId": "3152f6d3-00b8-4504-f2b8-a693ff8f6741"
      },
      "outputs": [
        {
          "name": "stdout",
          "output_type": "stream",
          "text": [
            "{\n",
            "    \"Location\": \"/sparsh-220712\"\n",
            "}\n"
          ]
        }
      ],
      "source": [
        "!aws s3api create-bucket --bucket sparsh-220712 --region us-east-1"
      ]
    },
    {
      "cell_type": "code",
      "execution_count": null,
      "metadata": {
        "colab": {
          "base_uri": "https://localhost:8080/"
        },
        "id": "Xsb9drwiES4A",
        "outputId": "34a3fc40-f145-4480-a0f1-e1f90c8da6db"
      },
      "outputs": [
        {
          "name": "stdout",
          "output_type": "stream",
          "text": [
            "Writing DataEngLambdaS3CWGluePolicy.json\n"
          ]
        }
      ],
      "source": [
        "%%writefile DataEngLambdaS3CWGluePolicy.json\n",
        "{\n",
        "    \"Version\": \"2012-10-17\",\n",
        "    \"Statement\": [\n",
        "        {\n",
        "            \"Effect\": \"Allow\",\n",
        "            \"Action\": [\n",
        "                \"logs:PutLogEvents\",\n",
        "                \"logs:CreateLogGroup\",\n",
        "                \"logs:CreateLogStream\"\n",
        "            ],\n",
        "            \"Resource\": \"arn:aws:logs:*:*:*\"\n",
        "        },\n",
        "        {\n",
        "            \"Effect\": \"Allow\",\n",
        "            \"Action\": [\n",
        "                \"s3:*\"\n",
        "            ],\n",
        "            \"Resource\": [\n",
        "                \"arn:aws:s3:::sparsh-220712/*\",\n",
        "                \"arn:aws:s3:::sparsh-220712\"\n",
        "            ]\n",
        "        },\n",
        "        {\n",
        "            \"Effect\": \"Allow\",\n",
        "            \"Action\": [\n",
        "                \"glue:*\"\n",
        "            ],\n",
        "            \"Resource\": \"*\"\n",
        "        }\n",
        "    ]\n",
        "}"
      ]
    },
    {
      "cell_type": "code",
      "execution_count": null,
      "metadata": {
        "colab": {
          "base_uri": "https://localhost:8080/"
        },
        "id": "GX3C1JMdEUUG",
        "outputId": "49e40ce2-98d8-4a6f-9f33-e124cc6e9a67"
      },
      "outputs": [
        {
          "name": "stdout",
          "output_type": "stream",
          "text": [
            "{\n",
            "    \"Policy\": {\n",
            "        \"PolicyName\": \"sparsh-policy-220712\",\n",
            "        \"PolicyId\": \"ANPAVVYXO24ERWB5BKPVN\",\n",
            "        \"Arn\": \"arn:aws:iam::390354360073:policy/sparsh-policy-220712\",\n",
            "        \"Path\": \"/\",\n",
            "        \"DefaultVersionId\": \"v1\",\n",
            "        \"AttachmentCount\": 0,\n",
            "        \"PermissionsBoundaryUsageCount\": 0,\n",
            "        \"IsAttachable\": true,\n",
            "        \"CreateDate\": \"2022-07-12T11:00:40Z\",\n",
            "        \"UpdateDate\": \"2022-07-12T11:00:40Z\"\n",
            "    }\n",
            "}\n"
          ]
        }
      ],
      "source": [
        "!aws iam create-policy --policy-name sparsh-policy-220712 --policy-document file://DataEngLambdaS3CWGluePolicy.json"
      ]
    },
    {
      "cell_type": "code",
      "execution_count": null,
      "metadata": {
        "colab": {
          "base_uri": "https://localhost:8080/"
        },
        "id": "sNabxh-pEXNk",
        "outputId": "d88d69fa-0af0-4be4-c45a-fe9323c2a5c9"
      },
      "outputs": [
        {
          "name": "stdout",
          "output_type": "stream",
          "text": [
            "Writing role-trust.json\n"
          ]
        }
      ],
      "source": [
        "%%writefile role-trust.json\n",
        "{\n",
        "    \"Version\": \"2012-10-17\",\n",
        "    \"Statement\": [\n",
        "        {\n",
        "            \"Effect\": \"Allow\",\n",
        "            \"Principal\": {\n",
        "                \"Service\": \"lambda.amazonaws.com\"\n",
        "            },\n",
        "            \"Action\": \"sts:AssumeRole\"\n",
        "        }\n",
        "    ]\n",
        "}"
      ]
    },
    {
      "cell_type": "code",
      "execution_count": null,
      "metadata": {
        "colab": {
          "base_uri": "https://localhost:8080/"
        },
        "id": "13FGKJjuEam9",
        "outputId": "85e54e78-5032-4c33-90d7-b78d94d37385"
      },
      "outputs": [
        {
          "name": "stdout",
          "output_type": "stream",
          "text": [
            "{\n",
            "    \"Role\": {\n",
            "        \"Path\": \"/\",\n",
            "        \"RoleName\": \"sparsh-role-lambda-220712\",\n",
            "        \"RoleId\": \"AROAVVYXO24EUGAYQ4VNP\",\n",
            "        \"Arn\": \"arn:aws:iam::390354360073:role/sparsh-role-lambda-220712\",\n",
            "        \"CreateDate\": \"2022-07-12T11:01:09Z\",\n",
            "        \"AssumeRolePolicyDocument\": {\n",
            "            \"Version\": \"2012-10-17\",\n",
            "            \"Statement\": [\n",
            "                {\n",
            "                    \"Effect\": \"Allow\",\n",
            "                    \"Principal\": {\n",
            "                        \"Service\": \"lambda.amazonaws.com\"\n",
            "                    },\n",
            "                    \"Action\": \"sts:AssumeRole\"\n",
            "                }\n",
            "            ]\n",
            "        }\n",
            "    }\n",
            "}\n"
          ]
        }
      ],
      "source": [
        "!aws iam create-role --role-name sparsh-role-lambda-220712 --assume-role-policy-document file://role-trust.json"
      ]
    },
    {
      "cell_type": "code",
      "execution_count": null,
      "metadata": {
        "colab": {
          "base_uri": "https://localhost:8080/"
        },
        "id": "zHOPeq3zEeSE",
        "outputId": "be05515e-7ff2-4762-e48c-c18a910b6cba"
      },
      "outputs": [
        {
          "name": "stdout",
          "output_type": "stream",
          "text": [
            "Overwriting role-trust.json\n"
          ]
        }
      ],
      "source": [
        "%%writefile role-trust.json\n",
        "{\n",
        "    \"Version\": \"2012-10-17\",\n",
        "    \"Statement\": [\n",
        "        {\n",
        "            \"Effect\": \"Allow\",\n",
        "            \"Principal\": {\n",
        "                \"Service\": \"dms.amazonaws.com\"\n",
        "            },\n",
        "            \"Action\": \"sts:AssumeRole\"\n",
        "        }\n",
        "    ]\n",
        "}"
      ]
    },
    {
      "cell_type": "code",
      "execution_count": null,
      "metadata": {
        "colab": {
          "base_uri": "https://localhost:8080/"
        },
        "id": "2uKeBH6VExEd",
        "outputId": "e41a28d5-7cd4-4df7-9a53-31d03c682afa"
      },
      "outputs": [
        {
          "name": "stdout",
          "output_type": "stream",
          "text": [
            "{\n",
            "    \"Role\": {\n",
            "        \"Path\": \"/\",\n",
            "        \"RoleName\": \"sparsh-role-dms-220712\",\n",
            "        \"RoleId\": \"AROAVVYXO24EX7BECHBL7\",\n",
            "        \"Arn\": \"arn:aws:iam::390354360073:role/sparsh-role-dms-220712\",\n",
            "        \"CreateDate\": \"2022-07-12T11:02:32Z\",\n",
            "        \"AssumeRolePolicyDocument\": {\n",
            "            \"Version\": \"2012-10-17\",\n",
            "            \"Statement\": [\n",
            "                {\n",
            "                    \"Effect\": \"Allow\",\n",
            "                    \"Principal\": {\n",
            "                        \"Service\": \"dms.amazonaws.com\"\n",
            "                    },\n",
            "                    \"Action\": \"sts:AssumeRole\"\n",
            "                }\n",
            "            ]\n",
            "        }\n",
            "    }\n",
            "}\n"
          ]
        }
      ],
      "source": [
        "!aws iam create-role --role-name sparsh-role-dms-220712 --assume-role-policy-document file://role-trust.json"
      ]
    },
    {
      "cell_type": "code",
      "execution_count": null,
      "metadata": {
        "id": "h3ND73MME2sN"
      },
      "outputs": [],
      "source": [
        "!aws iam attach-role-policy --policy-arn arn:aws:iam::390354360073:policy/sparsh-policy-220712 --role-name sparsh-role-lambda-220712"
      ]
    },
    {
      "cell_type": "code",
      "execution_count": null,
      "metadata": {
        "id": "-SyWYLn2Eyh3"
      },
      "outputs": [],
      "source": [
        "!aws iam attach-role-policy --policy-arn arn:aws:iam::390354360073:policy/sparsh-policy-220712 --role-name sparsh-role-dms-220712"
      ]
    },
    {
      "cell_type": "code",
      "execution_count": null,
      "metadata": {
        "id": "Ftu8Nf4AFBv_"
      },
      "outputs": [],
      "source": [
        "import boto3\n",
        "import awswrangler as wr\n",
        "from urllib.parse import unquote_plus\n",
        "\n",
        "def lambda_handler(event, context):\n",
        "    # Get the source bucket and object name as passed to the Lambda function\n",
        "    for record in event['Records']:\n",
        "        bucket = record['s3']['bucket']['name']\n",
        "        key = unquote_plus(record['s3']['object']['key'])\n",
        "    \n",
        "    # We will set the DB and table name based on the last two elements of \n",
        "    # the path prior to the file name. If key = 'dms/sakila/film/LOAD01.csv',\n",
        "    # then the following lines will set db to sakila and table_name to 'film'\n",
        "    key_list = key.split(\"/\")\n",
        "    print(f'key_list: {key_list}')\n",
        "    db_name = key_list[len(key_list)-3]\n",
        "    table_name = key_list[len(key_list)-2]\n",
        "    \n",
        "    print(f'Bucket: {bucket}')\n",
        "    print(f'Key: {key}')\n",
        "    print(f'DB Name: {db_name}')\n",
        "    print(f'Table Name: {table_name}')\n",
        "    \n",
        "    input_path = f\"s3://{bucket}/{key}\"\n",
        "    print(f'Input_Path: {input_path}')\n",
        "    output_path = f\"s3://{bucket}/{db_name}/cleaned/{table_name}\"\n",
        "    print(f'Output_Path: {output_path}')\n",
        "    \n",
        "    input_df = wr.s3.read_csv([input_path])\n",
        "    \n",
        "    current_databases = wr.catalog.databases()\n",
        "    wr.catalog.databases()\n",
        "    if db_name not in current_databases.values:\n",
        "        print(f'- Database {db_name} does not exist ... creating')\n",
        "        wr.catalog.create_database(db_name)\n",
        "    else:\n",
        "        print(f'- Database {db_name} already exists')\n",
        "    \n",
        "    result = wr.s3.to_parquet(\n",
        "        df=input_df, \n",
        "        path=output_path, \n",
        "        dataset=True,\n",
        "        database=db_name,\n",
        "        table=table_name,\n",
        "        mode=\"append\")\n",
        "        \n",
        "    print(\"RESULT: \")\n",
        "    print(f'{result}')\n",
        "    \n",
        "    return result"
      ]
    },
    {
      "cell_type": "markdown",
      "metadata": {
        "id": "lV6beA4aFyEe"
      },
      "source": [
        "We will create a DMS replication instance (a managed EC2 instance that connects to the source endpoint, retrieves data, and writes to the target endpoint), and also configure the source and target endpoints. We will then create a database migration task that provides the configuration settings for the migration.\n",
        "\n"
      ]
    },
    {
      "cell_type": "markdown",
      "metadata": {
        "id": "GvPi6eU8GdvD"
      },
      "source": [
        "- Creation replication instance\n",
        "- Create source and target endpoint\n",
        "- Create task"
      ]
    },
    {
      "cell_type": "code",
      "execution_count": null,
      "metadata": {
        "colab": {
          "base_uri": "https://localhost:8080/"
        },
        "id": "zGyOWPHkJc99",
        "outputId": "e65d1be6-89a4-45b4-e4f7-7b4dcbdd8d4d"
      },
      "outputs": [
        {
          "name": "stdout",
          "output_type": "stream",
          "text": [
            "Completed 7.2 KiB/7.2 KiB (141.4 KiB/s) with 1 file(s) remaining\rdownload: s3://sparsh-220712/sakila-db/sakila/actor/LOAD00000001.csv to ./actor.csv\n"
          ]
        }
      ],
      "source": [
        "!aws s3 cp s3://sparsh-220712/sakila-db/sakila/actor/LOAD00000001.csv actor.csv"
      ]
    },
    {
      "cell_type": "code",
      "execution_count": null,
      "metadata": {
        "colab": {
          "base_uri": "https://localhost:8080/",
          "height": 424
        },
        "id": "oci0EHlMML_-",
        "outputId": "01ed96b5-0f63-4a35-812a-8d28385b052d"
      },
      "outputs": [
        {
          "data": {
            "text/html": [
              "\n",
              "  <div id=\"df-92b9d245-8df0-4f49-b11b-33ee4f69c5d5\">\n",
              "    <div class=\"colab-df-container\">\n",
              "      <div>\n",
              "<style scoped>\n",
              "    .dataframe tbody tr th:only-of-type {\n",
              "        vertical-align: middle;\n",
              "    }\n",
              "\n",
              "    .dataframe tbody tr th {\n",
              "        vertical-align: top;\n",
              "    }\n",
              "\n",
              "    .dataframe thead th {\n",
              "        text-align: right;\n",
              "    }\n",
              "</style>\n",
              "<table border=\"1\" class=\"dataframe\">\n",
              "  <thead>\n",
              "    <tr style=\"text-align: right;\">\n",
              "      <th></th>\n",
              "      <th>1</th>\n",
              "      <th>PENELOPE</th>\n",
              "      <th>GUINESS</th>\n",
              "      <th>2006-02-15 04:34:33</th>\n",
              "    </tr>\n",
              "  </thead>\n",
              "  <tbody>\n",
              "    <tr>\n",
              "      <th>0</th>\n",
              "      <td>2</td>\n",
              "      <td>NICK</td>\n",
              "      <td>WAHLBERG</td>\n",
              "      <td>2006-02-15 04:34:33</td>\n",
              "    </tr>\n",
              "    <tr>\n",
              "      <th>1</th>\n",
              "      <td>3</td>\n",
              "      <td>ED</td>\n",
              "      <td>CHASE</td>\n",
              "      <td>2006-02-15 04:34:33</td>\n",
              "    </tr>\n",
              "    <tr>\n",
              "      <th>2</th>\n",
              "      <td>4</td>\n",
              "      <td>JENNIFER</td>\n",
              "      <td>DAVIS</td>\n",
              "      <td>2006-02-15 04:34:33</td>\n",
              "    </tr>\n",
              "    <tr>\n",
              "      <th>3</th>\n",
              "      <td>5</td>\n",
              "      <td>JOHNNY</td>\n",
              "      <td>LOLLOBRIGIDA</td>\n",
              "      <td>2006-02-15 04:34:33</td>\n",
              "    </tr>\n",
              "    <tr>\n",
              "      <th>4</th>\n",
              "      <td>6</td>\n",
              "      <td>BETTE</td>\n",
              "      <td>NICHOLSON</td>\n",
              "      <td>2006-02-15 04:34:33</td>\n",
              "    </tr>\n",
              "    <tr>\n",
              "      <th>...</th>\n",
              "      <td>...</td>\n",
              "      <td>...</td>\n",
              "      <td>...</td>\n",
              "      <td>...</td>\n",
              "    </tr>\n",
              "    <tr>\n",
              "      <th>194</th>\n",
              "      <td>196</td>\n",
              "      <td>BELA</td>\n",
              "      <td>WALKEN</td>\n",
              "      <td>2006-02-15 04:34:33</td>\n",
              "    </tr>\n",
              "    <tr>\n",
              "      <th>195</th>\n",
              "      <td>197</td>\n",
              "      <td>REESE</td>\n",
              "      <td>WEST</td>\n",
              "      <td>2006-02-15 04:34:33</td>\n",
              "    </tr>\n",
              "    <tr>\n",
              "      <th>196</th>\n",
              "      <td>198</td>\n",
              "      <td>MARY</td>\n",
              "      <td>KEITEL</td>\n",
              "      <td>2006-02-15 04:34:33</td>\n",
              "    </tr>\n",
              "    <tr>\n",
              "      <th>197</th>\n",
              "      <td>199</td>\n",
              "      <td>JULIA</td>\n",
              "      <td>FAWCETT</td>\n",
              "      <td>2006-02-15 04:34:33</td>\n",
              "    </tr>\n",
              "    <tr>\n",
              "      <th>198</th>\n",
              "      <td>200</td>\n",
              "      <td>THORA</td>\n",
              "      <td>TEMPLE</td>\n",
              "      <td>2006-02-15 04:34:33</td>\n",
              "    </tr>\n",
              "  </tbody>\n",
              "</table>\n",
              "<p>199 rows × 4 columns</p>\n",
              "</div>\n",
              "      <button class=\"colab-df-convert\" onclick=\"convertToInteractive('df-92b9d245-8df0-4f49-b11b-33ee4f69c5d5')\"\n",
              "              title=\"Convert this dataframe to an interactive table.\"\n",
              "              style=\"display:none;\">\n",
              "        \n",
              "  <svg xmlns=\"http://www.w3.org/2000/svg\" height=\"24px\"viewBox=\"0 0 24 24\"\n",
              "       width=\"24px\">\n",
              "    <path d=\"M0 0h24v24H0V0z\" fill=\"none\"/>\n",
              "    <path d=\"M18.56 5.44l.94 2.06.94-2.06 2.06-.94-2.06-.94-.94-2.06-.94 2.06-2.06.94zm-11 1L8.5 8.5l.94-2.06 2.06-.94-2.06-.94L8.5 2.5l-.94 2.06-2.06.94zm10 10l.94 2.06.94-2.06 2.06-.94-2.06-.94-.94-2.06-.94 2.06-2.06.94z\"/><path d=\"M17.41 7.96l-1.37-1.37c-.4-.4-.92-.59-1.43-.59-.52 0-1.04.2-1.43.59L10.3 9.45l-7.72 7.72c-.78.78-.78 2.05 0 2.83L4 21.41c.39.39.9.59 1.41.59.51 0 1.02-.2 1.41-.59l7.78-7.78 2.81-2.81c.8-.78.8-2.07 0-2.86zM5.41 20L4 18.59l7.72-7.72 1.47 1.35L5.41 20z\"/>\n",
              "  </svg>\n",
              "      </button>\n",
              "      \n",
              "  <style>\n",
              "    .colab-df-container {\n",
              "      display:flex;\n",
              "      flex-wrap:wrap;\n",
              "      gap: 12px;\n",
              "    }\n",
              "\n",
              "    .colab-df-convert {\n",
              "      background-color: #E8F0FE;\n",
              "      border: none;\n",
              "      border-radius: 50%;\n",
              "      cursor: pointer;\n",
              "      display: none;\n",
              "      fill: #1967D2;\n",
              "      height: 32px;\n",
              "      padding: 0 0 0 0;\n",
              "      width: 32px;\n",
              "    }\n",
              "\n",
              "    .colab-df-convert:hover {\n",
              "      background-color: #E2EBFA;\n",
              "      box-shadow: 0px 1px 2px rgba(60, 64, 67, 0.3), 0px 1px 3px 1px rgba(60, 64, 67, 0.15);\n",
              "      fill: #174EA6;\n",
              "    }\n",
              "\n",
              "    [theme=dark] .colab-df-convert {\n",
              "      background-color: #3B4455;\n",
              "      fill: #D2E3FC;\n",
              "    }\n",
              "\n",
              "    [theme=dark] .colab-df-convert:hover {\n",
              "      background-color: #434B5C;\n",
              "      box-shadow: 0px 1px 3px 1px rgba(0, 0, 0, 0.15);\n",
              "      filter: drop-shadow(0px 1px 2px rgba(0, 0, 0, 0.3));\n",
              "      fill: #FFFFFF;\n",
              "    }\n",
              "  </style>\n",
              "\n",
              "      <script>\n",
              "        const buttonEl =\n",
              "          document.querySelector('#df-92b9d245-8df0-4f49-b11b-33ee4f69c5d5 button.colab-df-convert');\n",
              "        buttonEl.style.display =\n",
              "          google.colab.kernel.accessAllowed ? 'block' : 'none';\n",
              "\n",
              "        async function convertToInteractive(key) {\n",
              "          const element = document.querySelector('#df-92b9d245-8df0-4f49-b11b-33ee4f69c5d5');\n",
              "          const dataTable =\n",
              "            await google.colab.kernel.invokeFunction('convertToInteractive',\n",
              "                                                     [key], {});\n",
              "          if (!dataTable) return;\n",
              "\n",
              "          const docLinkHtml = 'Like what you see? Visit the ' +\n",
              "            '<a target=\"_blank\" href=https://colab.research.google.com/notebooks/data_table.ipynb>data table notebook</a>'\n",
              "            + ' to learn more about interactive tables.';\n",
              "          element.innerHTML = '';\n",
              "          dataTable['output_type'] = 'display_data';\n",
              "          await google.colab.output.renderOutput(dataTable, element);\n",
              "          const docLink = document.createElement('div');\n",
              "          docLink.innerHTML = docLinkHtml;\n",
              "          element.appendChild(docLink);\n",
              "        }\n",
              "      </script>\n",
              "    </div>\n",
              "  </div>\n",
              "  "
            ],
            "text/plain": [
              "       1  PENELOPE       GUINESS  2006-02-15 04:34:33\n",
              "0      2      NICK      WAHLBERG  2006-02-15 04:34:33\n",
              "1      3        ED         CHASE  2006-02-15 04:34:33\n",
              "2      4  JENNIFER         DAVIS  2006-02-15 04:34:33\n",
              "3      5    JOHNNY  LOLLOBRIGIDA  2006-02-15 04:34:33\n",
              "4      6     BETTE     NICHOLSON  2006-02-15 04:34:33\n",
              "..   ...       ...           ...                  ...\n",
              "194  196      BELA        WALKEN  2006-02-15 04:34:33\n",
              "195  197     REESE          WEST  2006-02-15 04:34:33\n",
              "196  198      MARY        KEITEL  2006-02-15 04:34:33\n",
              "197  199     JULIA       FAWCETT  2006-02-15 04:34:33\n",
              "198  200     THORA        TEMPLE  2006-02-15 04:34:33\n",
              "\n",
              "[199 rows x 4 columns]"
            ]
          },
          "execution_count": 90,
          "metadata": {},
          "output_type": "execute_result"
        }
      ],
      "source": [
        "pd.read_csv(\"actor.csv\")"
      ]
    },
    {
      "cell_type": "code",
      "execution_count": null,
      "metadata": {
        "id": "mjnKC9vnNFS9"
      },
      "outputs": [],
      "source": []
    }
  ],
  "metadata": {
    "colab": {
      "collapsed_sections": [],
      "name": "Data Engineering Lab | Data Ingestion and Transformation",
      "provenance": []
    },
    "kernelspec": {
      "display_name": "Python 3.9.10 64-bit",
      "language": "python",
      "name": "python3"
    },
    "language_info": {
      "name": "python",
      "version": "3.9.10 (v3.9.10:f2f3f53782, Jan 13 2022, 17:02:14) \n[Clang 6.0 (clang-600.0.57)]"
    },
    "vscode": {
      "interpreter": {
        "hash": "aee8b7b246df8f9039afb4144a1f6fd8d2ca17a180786b69acc140d282b71a49"
      }
    }
  },
  "nbformat": 4,
  "nbformat_minor": 0
}

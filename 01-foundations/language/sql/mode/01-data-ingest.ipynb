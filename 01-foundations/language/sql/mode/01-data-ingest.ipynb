{
 "cells": [
  {
   "cell_type": "code",
   "execution_count": null,
   "metadata": {},
   "outputs": [],
   "source": [
    "import mysql.connector\n",
    "import pandas as pd\n",
    "import boto3\n",
    "import json\n",
    "import sqlalchemy"
   ]
  },
  {
   "cell_type": "code",
   "execution_count": null,
   "metadata": {},
   "outputs": [],
   "source": [
    "def get_secret(secret_name, region_name=\"us-east-1\"):\n",
    "    session = boto3.session.Session()\n",
    "    client = session.client(\n",
    "        service_name='secretsmanager',\n",
    "        region_name=region_name)\n",
    "    get_secret_value_response = client.get_secret_value(SecretId=secret_name)\n",
    "    get_secret_value_response = json.loads(get_secret_value_response['SecretString'])\n",
    "    return get_secret_value_response"
   ]
  },
  {
   "cell_type": "code",
   "execution_count": null,
   "metadata": {},
   "outputs": [],
   "source": [
    "creds = get_secret(\"wysde\")\n",
    "USERNAME = creds[\"RDS_MYSQL_USERNAME\"]\n",
    "PASSWORD = creds[\"RDS_MYSQL_PASSWORD\"]\n",
    "HOST = creds[\"RDS_MYSQL_HOST\"]\n",
    "DATABASE = 'sparsh'"
   ]
  },
  {
   "cell_type": "code",
   "execution_count": null,
   "metadata": {},
   "outputs": [],
   "source": [
    "conn_str = 'mysql+mysqlconnector://{0}:{1}@{2}/{3}'.format(USERNAME, PASSWORD, HOST, DATABASE)\n",
    "conn = sqlalchemy.create_engine(conn_str)"
   ]
  },
  {
   "cell_type": "code",
   "execution_count": null,
   "metadata": {},
   "outputs": [],
   "source": [
    "%config SqlMagic.autopandas=True\n",
    "%config SqlMagic.displaycon=False\n",
    "%config SqlMagic.feedback=False\n",
    "%reload_ext sql\n",
    "%sql {conn_str}\n",
    "# %sql GRANT SESSION_VARIABLES_ADMIN ON *.* TO {USERNAME};"
   ]
  },
  {
   "attachments": {},
   "cell_type": "markdown",
   "metadata": {},
   "source": [
    "---"
   ]
  },
  {
   "attachments": {},
   "cell_type": "markdown",
   "metadata": {},
   "source": [
    "## us_housing_units"
   ]
  },
  {
   "cell_type": "code",
   "execution_count": null,
   "metadata": {},
   "outputs": [],
   "source": [
    "df_us_housing_units = pd.read_csv(\"./data/us_housing_units.csv\")\n",
    "df_us_housing_units"
   ]
  },
  {
   "cell_type": "code",
   "execution_count": null,
   "metadata": {},
   "outputs": [],
   "source": [
    "print(pd.io.sql.get_schema(df_us_housing_units.reset_index(),\n",
    "                           name='us_housing_units',\n",
    "                           con=conn))"
   ]
  },
  {
   "cell_type": "code",
   "execution_count": null,
   "metadata": {},
   "outputs": [],
   "source": [
    "# df_us_housing_units.to_sql('us_housing_units', conn, if_exists='replace')"
   ]
  },
  {
   "cell_type": "code",
   "execution_count": null,
   "metadata": {},
   "outputs": [],
   "source": [
    "%%sql\n",
    "\n",
    "CREATE TABLE IF NOT EXISTS us_housing_units (\n",
    "\tyear FLOAT(53), \n",
    "\tmonth FLOAT(53), \n",
    "\tmonth_name TEXT, \n",
    "\tsouth FLOAT(53), \n",
    "\twest FLOAT(53), \n",
    "\tmidwest FLOAT(53), \n",
    "\tnortheast FLOAT(53)\n",
    ")"
   ]
  },
  {
   "attachments": {},
   "cell_type": "markdown",
   "metadata": {},
   "source": [
    "Follow https://go.aws/3CbS9Z4"
   ]
  },
  {
   "cell_type": "code",
   "execution_count": null,
   "metadata": {},
   "outputs": [],
   "source": [
    "!mysqlimport --local \\\n",
    "    --compress \\\n",
    "    --user={USERNAME} \\\n",
    "    --password \\\n",
    "    --host={HOST} \\\n",
    "    --ignore-lines=1 \\\n",
    "    --fields-terminated-by=',' {DATABASE} data/us_housing_units.csv "
   ]
  },
  {
   "cell_type": "code",
   "execution_count": null,
   "metadata": {},
   "outputs": [],
   "source": [
    "%sql select * from us_housing_units limit 10;"
   ]
  },
  {
   "attachments": {},
   "cell_type": "markdown",
   "metadata": {},
   "source": [
    "---"
   ]
  },
  {
   "attachments": {},
   "cell_type": "markdown",
   "metadata": {},
   "source": [
    "## billboard_top_100_year_end"
   ]
  },
  {
   "cell_type": "code",
   "execution_count": null,
   "metadata": {},
   "outputs": [],
   "source": [
    "TABLE = \"billboard_top_100_year_end\"\n",
    "\n",
    "df = pd.read_csv(f\"./data/{TABLE}.csv\")\n",
    "df.head()"
   ]
  },
  {
   "cell_type": "code",
   "execution_count": null,
   "metadata": {},
   "outputs": [],
   "source": [
    "print(pd.io.sql.get_schema(df, name=TABLE, con=conn))"
   ]
  },
  {
   "cell_type": "code",
   "execution_count": null,
   "metadata": {},
   "outputs": [],
   "source": [
    "%%sql\n",
    "\n",
    "CREATE TABLE billboard_top_100_year_end (\n",
    "\tyear FLOAT(53), \n",
    "\tyear_rank FLOAT(53), \n",
    "\t`group` TEXT, \n",
    "\tartist TEXT, \n",
    "\tsong_name TEXT, \n",
    "\tid BIGINT\n",
    ")"
   ]
  },
  {
   "cell_type": "code",
   "execution_count": null,
   "metadata": {},
   "outputs": [],
   "source": [
    "!echo mysqlimport --local \\\n",
    "    --compress \\\n",
    "    --user={USERNAME} \\\n",
    "    --password \\\n",
    "    --host={HOST} \\\n",
    "    --ignore-lines=1 \\\n",
    "    --fields-terminated-by=\\',\\' {DATABASE} data/{TABLE}.csv "
   ]
  },
  {
   "attachments": {},
   "cell_type": "markdown",
   "metadata": {},
   "source": [
    "---"
   ]
  },
  {
   "attachments": {},
   "cell_type": "markdown",
   "metadata": {},
   "source": [
    "## aapl_historical_stock_price"
   ]
  },
  {
   "cell_type": "code",
   "execution_count": null,
   "metadata": {},
   "outputs": [],
   "source": [
    "TABLE = \"aapl_historical_stock_price\"\n",
    "\n",
    "df = pd.read_csv(f\"./data/{TABLE}.csv\")\n",
    "df.head()"
   ]
  },
  {
   "cell_type": "code",
   "execution_count": null,
   "metadata": {},
   "outputs": [],
   "source": [
    "print(pd.io.sql.get_schema(df, name=TABLE, con=conn))"
   ]
  },
  {
   "cell_type": "code",
   "execution_count": null,
   "metadata": {},
   "outputs": [],
   "source": [
    "%%sql\n",
    "\n",
    "CREATE TABLE aapl_historical_stock_price (\n",
    "\tdate TEXT, \n",
    "\tyear FLOAT(53), \n",
    "\tmonth FLOAT(53), \n",
    "\topen FLOAT(53), \n",
    "\thigh FLOAT(53), \n",
    "\tlow FLOAT(53), \n",
    "\tclose FLOAT(53), \n",
    "\tvolume FLOAT(53), \n",
    "\tid BIGINT\n",
    ")"
   ]
  },
  {
   "cell_type": "code",
   "execution_count": null,
   "metadata": {},
   "outputs": [],
   "source": [
    "!echo mysqlimport --local \\\n",
    "    --compress \\\n",
    "    --user={USERNAME} \\\n",
    "    --password \\\n",
    "    --host={HOST} \\\n",
    "    --ignore-lines=1 \\\n",
    "    --fields-terminated-by=\\',\\' {DATABASE} data/{TABLE}.csv "
   ]
  },
  {
   "attachments": {},
   "cell_type": "markdown",
   "metadata": {},
   "source": [
    "---"
   ]
  },
  {
   "attachments": {},
   "cell_type": "markdown",
   "metadata": {},
   "source": [
    "## college_football_players"
   ]
  },
  {
   "cell_type": "code",
   "execution_count": null,
   "metadata": {},
   "outputs": [],
   "source": [
    "TABLE = \"college_football_players\"\n",
    "\n",
    "df = pd.read_csv(f\"./data/{TABLE}.csv\")\n",
    "df.head()"
   ]
  },
  {
   "cell_type": "code",
   "execution_count": null,
   "metadata": {},
   "outputs": [],
   "source": [
    "print(pd.io.sql.get_schema(df, name=TABLE, con=conn))"
   ]
  },
  {
   "cell_type": "code",
   "execution_count": null,
   "metadata": {},
   "outputs": [],
   "source": [
    "%%sql\n",
    "\n",
    "CREATE TABLE college_football_players (\n",
    "\tfull_school_name TEXT, \n",
    "\tschool_name TEXT, \n",
    "\tplayer_name TEXT, \n",
    "\tposition TEXT, \n",
    "\theight FLOAT(53), \n",
    "\tweight FLOAT(53), \n",
    "\tyear TEXT, \n",
    "\thometown TEXT, \n",
    "\tstate TEXT, \n",
    "\tid BIGINT\n",
    ")"
   ]
  },
  {
   "cell_type": "code",
   "execution_count": null,
   "metadata": {},
   "outputs": [],
   "source": [
    "!echo mysqlimport --local \\\n",
    "    --compress \\\n",
    "    --user={USERNAME} \\\n",
    "    --password \\\n",
    "    --host={HOST} \\\n",
    "    --ignore-lines=1 \\\n",
    "    --fields-terminated-by=\\',\\' {DATABASE} data/{TABLE}.csv "
   ]
  },
  {
   "attachments": {},
   "cell_type": "markdown",
   "metadata": {},
   "source": [
    "---"
   ]
  },
  {
   "attachments": {},
   "cell_type": "markdown",
   "metadata": {},
   "source": [
    "## college_football_teams"
   ]
  },
  {
   "cell_type": "code",
   "execution_count": null,
   "metadata": {},
   "outputs": [],
   "source": [
    "TABLE = \"college_football_teams\"\n",
    "\n",
    "df = pd.read_csv(f\"./data/{TABLE}.csv\")\n",
    "df.head()"
   ]
  },
  {
   "cell_type": "code",
   "execution_count": null,
   "metadata": {},
   "outputs": [],
   "source": [
    "print(pd.io.sql.get_schema(df, name=TABLE, con=conn))"
   ]
  },
  {
   "cell_type": "code",
   "execution_count": null,
   "metadata": {},
   "outputs": [],
   "source": [
    "%%sql\n",
    "\n",
    "CREATE TABLE college_football_teams (\n",
    "\tdivision TEXT, \n",
    "\tconference TEXT, \n",
    "\tschool_name TEXT, \n",
    "\troster_url TEXT, \n",
    "\tid BIGINT\n",
    ")"
   ]
  },
  {
   "cell_type": "code",
   "execution_count": null,
   "metadata": {},
   "outputs": [],
   "source": [
    "!echo mysqlimport --local \\\n",
    "    --compress \\\n",
    "    --user={USERNAME} \\\n",
    "    --password \\\n",
    "    --host={HOST} \\\n",
    "    --ignore-lines=1 \\\n",
    "    --fields-terminated-by=\\',\\' {DATABASE} data/{TABLE}.csv "
   ]
  },
  {
   "attachments": {},
   "cell_type": "markdown",
   "metadata": {},
   "source": [
    "---"
   ]
  },
  {
   "attachments": {},
   "cell_type": "markdown",
   "metadata": {},
   "source": [
    "## crunchbase_companies"
   ]
  },
  {
   "cell_type": "code",
   "execution_count": null,
   "metadata": {},
   "outputs": [],
   "source": [
    "TABLE = \"crunchbase_companies\"\n",
    "\n",
    "df = pd.read_csv(f\"./data/{TABLE}.csv\")\n",
    "df.head()"
   ]
  },
  {
   "cell_type": "code",
   "execution_count": null,
   "metadata": {},
   "outputs": [],
   "source": [
    "print(pd.io.sql.get_schema(df, name=TABLE, con=conn))"
   ]
  },
  {
   "cell_type": "code",
   "execution_count": null,
   "metadata": {},
   "outputs": [],
   "source": [
    "%%sql\n",
    "\n",
    "CREATE TABLE crunchbase_companies (\n",
    "\tpermalink TEXT, \n",
    "\tname TEXT, \n",
    "\thomepage_url TEXT, \n",
    "\tcategory_code TEXT, \n",
    "\tfunding_total_usd FLOAT(53), \n",
    "\tstatus TEXT, \n",
    "\tcountry_code TEXT, \n",
    "\tstate_code TEXT, \n",
    "\tregion TEXT, \n",
    "\tcity TEXT, \n",
    "\tfunding_rounds FLOAT(53), \n",
    "\tfounded_at TEXT, \n",
    "\tfounded_month TEXT, \n",
    "\tfounded_quarter TEXT, \n",
    "\tfounded_year FLOAT(53), \n",
    "\tfirst_funding_at TEXT, \n",
    "\tlast_funding_at TEXT, \n",
    "\tlast_milestone_at TEXT, \n",
    "\tid BIGINT\n",
    ")"
   ]
  },
  {
   "cell_type": "code",
   "execution_count": null,
   "metadata": {},
   "outputs": [],
   "source": [
    "!echo mysqlimport --local \\\n",
    "    --compress \\\n",
    "    --user={USERNAME} \\\n",
    "    --password \\\n",
    "    --host={HOST} \\\n",
    "    --ignore-lines=1 \\\n",
    "    --fields-terminated-by=\\',\\' {DATABASE} data/{TABLE}.csv "
   ]
  },
  {
   "attachments": {},
   "cell_type": "markdown",
   "metadata": {},
   "source": [
    "---"
   ]
  },
  {
   "attachments": {},
   "cell_type": "markdown",
   "metadata": {},
   "source": [
    "## crunchbase_acquisitions"
   ]
  },
  {
   "cell_type": "code",
   "execution_count": null,
   "metadata": {},
   "outputs": [],
   "source": [
    "TABLE = \"crunchbase_acquisitions\"\n",
    "\n",
    "df = pd.read_csv(f\"./data/{TABLE}.csv\")\n",
    "df.head()"
   ]
  },
  {
   "cell_type": "code",
   "execution_count": null,
   "metadata": {},
   "outputs": [],
   "source": [
    "print(pd.io.sql.get_schema(df, name=TABLE, con=conn))"
   ]
  },
  {
   "cell_type": "code",
   "execution_count": null,
   "metadata": {},
   "outputs": [],
   "source": [
    "%%sql\n",
    "\n",
    "CREATE TABLE crunchbase_acquisitions (\n",
    "\tcompany_permalink TEXT, \n",
    "\tcompany_name TEXT, \n",
    "\tcompany_category_code TEXT, \n",
    "\tcompany_country_code TEXT, \n",
    "\tcompany_state_code TEXT, \n",
    "\tcompany_region TEXT, \n",
    "\tcompany_city TEXT, \n",
    "\tacquirer_permalink TEXT, \n",
    "\tacquirer_name TEXT, \n",
    "\tacquirer_category_code TEXT, \n",
    "\tacquirer_country_code TEXT, \n",
    "\tacquirer_state_code TEXT, \n",
    "\tacquirer_region TEXT, \n",
    "\tacquirer_city TEXT, \n",
    "\tacquired_at TEXT, \n",
    "\tacquired_month TEXT, \n",
    "\tacquired_quarter TEXT, \n",
    "\tacquired_year FLOAT(53), \n",
    "\tprice_amount FLOAT(53), \n",
    "\tprice_currency_code TEXT, \n",
    "\tid BIGINT\n",
    ")"
   ]
  },
  {
   "cell_type": "code",
   "execution_count": null,
   "metadata": {},
   "outputs": [],
   "source": [
    "!echo mysqlimport --local \\\n",
    "    --compress \\\n",
    "    --user={USERNAME} \\\n",
    "    --password \\\n",
    "    --host={HOST} \\\n",
    "    --ignore-lines=1 \\\n",
    "    --fields-terminated-by=\\',\\' {DATABASE} data/{TABLE}.csv "
   ]
  },
  {
   "attachments": {},
   "cell_type": "markdown",
   "metadata": {},
   "source": [
    "---"
   ]
  },
  {
   "attachments": {},
   "cell_type": "markdown",
   "metadata": {},
   "source": [
    "## crunchbase_investments_part1"
   ]
  },
  {
   "cell_type": "code",
   "execution_count": null,
   "metadata": {},
   "outputs": [],
   "source": [
    "TABLE = \"crunchbase_investments_part1\"\n",
    "\n",
    "df = pd.read_csv(f\"./data/{TABLE}.csv\")\n",
    "df.head()"
   ]
  },
  {
   "cell_type": "code",
   "execution_count": null,
   "metadata": {},
   "outputs": [],
   "source": [
    "print(pd.io.sql.get_schema(df, name=TABLE, con=conn))"
   ]
  },
  {
   "cell_type": "code",
   "execution_count": null,
   "metadata": {},
   "outputs": [],
   "source": [
    "%%sql\n",
    "\n",
    "\n",
    "CREATE TABLE crunchbase_investments_part1 (\n",
    "\tcompany_permalink TEXT, \n",
    "\tcompany_name TEXT, \n",
    "\tcompany_category_code TEXT, \n",
    "\tcompany_country_code TEXT, \n",
    "\tcompany_state_code TEXT, \n",
    "\tcompany_region TEXT, \n",
    "\tcompany_city TEXT, \n",
    "\tinvestor_permalink TEXT, \n",
    "\tinvestor_name TEXT, \n",
    "\tinvestor_category_code TEXT, \n",
    "\tinvestor_country_code TEXT, \n",
    "\tinvestor_state_code TEXT, \n",
    "\tinvestor_region TEXT, \n",
    "\tinvestor_city TEXT, \n",
    "\tfunding_round_type TEXT, \n",
    "\tfunded_at TEXT, \n",
    "\tfunded_month TEXT, \n",
    "\tfunded_quarter TEXT, \n",
    "\tfunded_year FLOAT(53), \n",
    "\traised_amount_usd FLOAT(53), \n",
    "\tid BIGINT\n",
    ")"
   ]
  },
  {
   "cell_type": "code",
   "execution_count": null,
   "metadata": {},
   "outputs": [],
   "source": [
    "!echo mysqlimport --local \\\n",
    "    --compress \\\n",
    "    --user={USERNAME} \\\n",
    "    --password \\\n",
    "    --host={HOST} \\\n",
    "    --ignore-lines=1 \\\n",
    "    --fields-terminated-by=\\',\\' {DATABASE} data/{TABLE}.csv "
   ]
  },
  {
   "attachments": {},
   "cell_type": "markdown",
   "metadata": {},
   "source": [
    "---"
   ]
  },
  {
   "attachments": {},
   "cell_type": "markdown",
   "metadata": {},
   "source": [
    "## crunchbase_companies_clean_date"
   ]
  },
  {
   "cell_type": "code",
   "execution_count": null,
   "metadata": {},
   "outputs": [],
   "source": [
    "TABLE = \"crunchbase_companies_clean_date\"\n",
    "TABLE_NEW = TABLE+\"_preprocessed\"\n",
    "\n",
    "df = pd.read_csv(f\"./data/{TABLE}.csv\")\n",
    "df.head()"
   ]
  },
  {
   "cell_type": "code",
   "execution_count": null,
   "metadata": {},
   "outputs": [],
   "source": [
    "df.info()"
   ]
  },
  {
   "cell_type": "code",
   "execution_count": null,
   "metadata": {},
   "outputs": [],
   "source": [
    "df['founded_at_clean'] = pd.to_datetime(df['founded_at_clean'])\n",
    "df.info()"
   ]
  },
  {
   "cell_type": "code",
   "execution_count": null,
   "metadata": {},
   "outputs": [],
   "source": [
    "print(pd.io.sql.get_schema(df, name=TABLE_NEW, con=conn))"
   ]
  },
  {
   "cell_type": "code",
   "execution_count": null,
   "metadata": {},
   "outputs": [],
   "source": [
    "%%sql\n",
    "\n",
    "CREATE TABLE crunchbase_companies_clean_date_preprocessed (\n",
    "\tpermalink TEXT, \n",
    "\tname TEXT, \n",
    "\thomepage_url TEXT, \n",
    "\tcategory_code TEXT, \n",
    "\tfunding_total_usd FLOAT(53), \n",
    "\tstatus TEXT, \n",
    "\tcountry_code TEXT, \n",
    "\tstate_code TEXT, \n",
    "\tregion TEXT, \n",
    "\tcity TEXT, \n",
    "\tfunding_rounds FLOAT(53), \n",
    "\tfounded_at TEXT, \n",
    "\tfounded_at_clean DATETIME, \n",
    "\tid BIGINT\n",
    ")"
   ]
  },
  {
   "cell_type": "code",
   "execution_count": null,
   "metadata": {},
   "outputs": [],
   "source": [
    "df.to_csv(f\"./data/{TABLE_NEW}.csv\", index=False)"
   ]
  },
  {
   "cell_type": "code",
   "execution_count": null,
   "metadata": {},
   "outputs": [],
   "source": [
    "!echo mysqlimport --local \\\n",
    "    --compress \\\n",
    "    --user={USERNAME} \\\n",
    "    --password \\\n",
    "    --host={HOST} \\\n",
    "    --ignore-lines=1 \\\n",
    "    --fields-terminated-by=\\',\\' {DATABASE} data/{TABLE_NEW}.csv "
   ]
  },
  {
   "attachments": {},
   "cell_type": "markdown",
   "metadata": {},
   "source": [
    "---"
   ]
  },
  {
   "attachments": {},
   "cell_type": "markdown",
   "metadata": {},
   "source": [
    "## crunchbase_acquisitions_clean_date"
   ]
  },
  {
   "cell_type": "code",
   "execution_count": null,
   "metadata": {},
   "outputs": [],
   "source": [
    "TABLE = \"crunchbase_acquisitions_clean_date\"\n",
    "TABLE_NEW = TABLE+\"_preprocessed\"\n",
    "\n",
    "df = pd.read_csv(f\"./data/{TABLE}.csv\")\n",
    "df.head()"
   ]
  },
  {
   "cell_type": "code",
   "execution_count": null,
   "metadata": {},
   "outputs": [],
   "source": [
    "df.info()"
   ]
  },
  {
   "cell_type": "code",
   "execution_count": null,
   "metadata": {},
   "outputs": [],
   "source": [
    "df['acquired_at_cleaned'] = pd.to_datetime(df['acquired_at_cleaned'])\n",
    "df.info()"
   ]
  },
  {
   "cell_type": "code",
   "execution_count": null,
   "metadata": {},
   "outputs": [],
   "source": [
    "print(pd.io.sql.get_schema(df, name=TABLE_NEW, con=conn))"
   ]
  },
  {
   "cell_type": "code",
   "execution_count": null,
   "metadata": {},
   "outputs": [],
   "source": [
    "%%sql\n",
    "\n",
    "CREATE TABLE crunchbase_acquisitions_clean_date_preprocessed (\n",
    "\tcompany_permalink TEXT, \n",
    "\tacquirer_permalink TEXT, \n",
    "\tacquirer_name TEXT, \n",
    "\tacquirer_category_code TEXT, \n",
    "\tacquirer_country_code TEXT, \n",
    "\tacquirer_state_code TEXT, \n",
    "\tacquirer_region TEXT, \n",
    "\tacquirer_city TEXT, \n",
    "\tprice_amount FLOAT(53), \n",
    "\tprice_currency_code TEXT, \n",
    "\tacquired_at TEXT, \n",
    "\tacquired_at_cleaned DATETIME, \n",
    "\tid BIGINT\n",
    ")"
   ]
  },
  {
   "cell_type": "code",
   "execution_count": null,
   "metadata": {},
   "outputs": [],
   "source": [
    "df.to_csv(f\"./data/{TABLE_NEW}.csv\", index=False)"
   ]
  },
  {
   "cell_type": "code",
   "execution_count": null,
   "metadata": {},
   "outputs": [],
   "source": [
    "!echo mysqlimport --local \\\n",
    "    --compress \\\n",
    "    --user={USERNAME} \\\n",
    "    --password \\\n",
    "    --host={HOST} \\\n",
    "    --ignore-lines=1 \\\n",
    "    --fields-terminated-by=\\',\\' {DATABASE} data/{TABLE_NEW}.csv"
   ]
  },
  {
   "attachments": {},
   "cell_type": "markdown",
   "metadata": {},
   "source": [
    "---"
   ]
  },
  {
   "attachments": {},
   "cell_type": "markdown",
   "metadata": {},
   "source": [
    "## sf_crime_incidents_2014_01"
   ]
  },
  {
   "cell_type": "code",
   "execution_count": null,
   "metadata": {},
   "outputs": [],
   "source": [
    "TABLE = \"sf_crime_incidents_2014_01\"\n",
    "TABLE_NEW = TABLE+\"_preprocessed\"\n",
    "\n",
    "df = pd.read_csv(f\"./data/{TABLE}.csv\")\n",
    "df.head()"
   ]
  },
  {
   "cell_type": "code",
   "execution_count": null,
   "metadata": {},
   "outputs": [],
   "source": [
    "df['date'] = pd.to_datetime(df['date'])"
   ]
  },
  {
   "cell_type": "code",
   "execution_count": null,
   "metadata": {},
   "outputs": [],
   "source": [
    "print(pd.io.sql.get_schema(df, name=TABLE_NEW, con=conn))"
   ]
  },
  {
   "cell_type": "code",
   "execution_count": null,
   "metadata": {},
   "outputs": [],
   "source": [
    "%%sql\n",
    "\n",
    "CREATE TABLE sf_crime_incidents_2014_01_preprocessed (\n",
    "\tincidnt_num FLOAT(53), \n",
    "\tcategory TEXT, \n",
    "\tdescript TEXT, \n",
    "\tday_of_week TEXT, \n",
    "\tdate TIMESTAMP NULL, \n",
    "\ttime TEXT, \n",
    "\tpd_district TEXT, \n",
    "\tresolution TEXT, \n",
    "\taddress TEXT, \n",
    "\tlon FLOAT(53), \n",
    "\tlat FLOAT(53), \n",
    "\tlocation TEXT, \n",
    "\tid BIGINT\n",
    ")"
   ]
  },
  {
   "cell_type": "code",
   "execution_count": null,
   "metadata": {},
   "outputs": [],
   "source": [
    "df.to_csv(f\"./data/{TABLE_NEW}.csv\", index=False)"
   ]
  },
  {
   "cell_type": "code",
   "execution_count": null,
   "metadata": {},
   "outputs": [],
   "source": [
    "!echo mysqlimport --local \\\n",
    "    --compress \\\n",
    "    --user={USERNAME} \\\n",
    "    --password \\\n",
    "    --host={HOST} \\\n",
    "    --ignore-lines=1 \\\n",
    "    --fields-terminated-by=\\',\\' {DATABASE} data/{TABLE_NEW}.csv"
   ]
  },
  {
   "attachments": {},
   "cell_type": "markdown",
   "metadata": {},
   "source": [
    "---"
   ]
  },
  {
   "attachments": {},
   "cell_type": "markdown",
   "metadata": {},
   "source": [
    "## dc_bikeshare_q1_2012"
   ]
  },
  {
   "cell_type": "code",
   "execution_count": null,
   "metadata": {},
   "outputs": [],
   "source": [
    "TABLE = \"dc_bikeshare_q1_2012\"\n",
    "TABLE_NEW = TABLE+\"_preprocessed\"\n",
    "\n",
    "df = pd.read_csv(f\"./data/{TABLE}.csv\")\n",
    "df.head()"
   ]
  },
  {
   "cell_type": "code",
   "execution_count": null,
   "metadata": {},
   "outputs": [],
   "source": [
    "df['start_time'] = pd.to_datetime(df['start_time'])\n",
    "df['end_time'] = pd.to_datetime(df['end_time'])"
   ]
  },
  {
   "cell_type": "code",
   "execution_count": null,
   "metadata": {},
   "outputs": [],
   "source": [
    "print(pd.io.sql.get_schema(df, name=TABLE_NEW, con=conn))"
   ]
  },
  {
   "cell_type": "code",
   "execution_count": null,
   "metadata": {},
   "outputs": [],
   "source": [
    "%%sql\n",
    "\n",
    "CREATE TABLE dc_bikeshare_q1_2012_preprocessed (\n",
    "\tduration TEXT, \n",
    "\tduration_seconds FLOAT(53), \n",
    "\tstart_time DATETIME, \n",
    "\tstart_station TEXT, \n",
    "\tstart_terminal FLOAT(53), \n",
    "\tend_time DATETIME, \n",
    "\tend_station TEXT, \n",
    "\tend_terminal FLOAT(53), \n",
    "\tbike_number TEXT, \n",
    "\trider_type TEXT, \n",
    "\tid BIGINT\n",
    ")"
   ]
  },
  {
   "cell_type": "code",
   "execution_count": null,
   "metadata": {},
   "outputs": [],
   "source": [
    "df.to_csv(f\"./data/{TABLE_NEW}.csv\", index=False)"
   ]
  },
  {
   "cell_type": "code",
   "execution_count": null,
   "metadata": {},
   "outputs": [],
   "source": [
    "!echo mysqlimport --local \\\n",
    "    --compress \\\n",
    "    --user={USERNAME} \\\n",
    "    --password \\\n",
    "    --host={HOST} \\\n",
    "    --ignore-lines=1 \\\n",
    "    --fields-terminated-by=\\',\\' {DATABASE} data/{TABLE_NEW}.csv"
   ]
  }
 ],
 "metadata": {
  "kernelspec": {
   "display_name": "env-spacy",
   "language": "python",
   "name": "python3"
  },
  "language_info": {
   "codemirror_mode": {
    "name": "ipython",
    "version": 3
   },
   "file_extension": ".py",
   "mimetype": "text/x-python",
   "name": "python",
   "nbconvert_exporter": "python",
   "pygments_lexer": "ipython3",
   "version": "3.9.7"
  },
  "orig_nbformat": 4,
  "vscode": {
   "interpreter": {
    "hash": "343191058819caea96d5cde1bd3b1a75b4807623ce2cda0e1c8499e39ac847e3"
   }
  }
 },
 "nbformat": 4,
 "nbformat_minor": 2
}

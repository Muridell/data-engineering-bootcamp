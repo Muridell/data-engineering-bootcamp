{
 "cells": [
  {
   "cell_type": "code",
   "execution_count": 75,
   "metadata": {},
   "outputs": [],
   "source": [
    "import random\n",
    "import csv\n",
    "import os\n",
    "import calendar\n",
    "import pandas as pd\n",
    "import matplotlib.pyplot as plt"
   ]
  },
  {
   "attachments": {},
   "cell_type": "markdown",
   "metadata": {},
   "source": [
    "## Fundamentals"
   ]
  },
  {
   "attachments": {},
   "cell_type": "markdown",
   "metadata": {},
   "source": [
    "## Strings"
   ]
  },
  {
   "cell_type": "code",
   "execution_count": null,
   "metadata": {},
   "outputs": [],
   "source": [
    "# Write a Python program to print \"Hello Python\"\n",
    "\n",
    "print('Hello Python')"
   ]
  },
  {
   "cell_type": "code",
   "execution_count": null,
   "metadata": {},
   "outputs": [],
   "source": [
    "# Write a Python program to do arithmetical operations addition and division\n",
    "\n",
    "x = 9\n",
    "y = 3\n",
    "\n",
    "## Addition\n",
    "print(x + y)\n",
    "\n",
    "## Division\n",
    "print(x / y)"
   ]
  },
  {
   "cell_type": "code",
   "execution_count": null,
   "metadata": {},
   "outputs": [],
   "source": [
    "# Write a Python program to find the area of a triangle\n",
    "\n",
    "height = 50\n",
    "base = 30\n",
    "\n",
    "print(f'Area: {height * base / 2}')"
   ]
  },
  {
   "cell_type": "code",
   "execution_count": null,
   "metadata": {},
   "outputs": [],
   "source": [
    "# Write a Python program to swap two variables\n",
    "\n",
    "var1 = 123\n",
    "var2 = 111\n",
    "\n",
    "print(f'Before swap:\\nvar1 = {var1} and var2 = {var2}')\n",
    "\n",
    "var1, var2 = var2, var1\n",
    "\n",
    "print(f'\\nAfter swap:\\nvar1 = {var1} and var2 = {var2}')"
   ]
  },
  {
   "cell_type": "code",
   "execution_count": null,
   "metadata": {},
   "outputs": [],
   "source": [
    "# Write a Python program to generate a random number\n",
    "\n",
    "print(random.random())\n",
    "print(random.randint(1, 10))"
   ]
  },
  {
   "cell_type": "code",
   "execution_count": null,
   "metadata": {},
   "outputs": [],
   "source": [
    "# Write a Python program to convert kilometers to miles\n",
    "\n",
    "km = 16.0934\n",
    "\n",
    "miles = km / 1.60934\n",
    "\n",
    "print(f'Kilometers: {km}\\nMiles: {miles}')"
   ]
  },
  {
   "cell_type": "code",
   "execution_count": null,
   "metadata": {},
   "outputs": [],
   "source": [
    "# Write a Python program to convert Celsius to Fahrenheit\n",
    "\n",
    "c = 100\n",
    "\n",
    "f = (9 * c / 5) + 32\n",
    "\n",
    "print(f'Celsius: {c}\\nFahrenheit: {f}')"
   ]
  },
  {
   "cell_type": "code",
   "execution_count": null,
   "metadata": {},
   "outputs": [],
   "source": [
    "# Write a Python program to display calendar\n",
    "\n",
    "print(calendar.calendar(2023))"
   ]
  },
  {
   "cell_type": "code",
   "execution_count": null,
   "metadata": {},
   "outputs": [],
   "source": [
    "# Write a Python program to swap two variables without temp variable\n",
    "\n",
    "var1 = 123\n",
    "var2 = 111\n",
    "\n",
    "print(f'Before swap:\\nvar1 = {var1} and var2 = {var2}')\n",
    "\n",
    "var1, var2 = var2, var1\n",
    "\n",
    "print(f'\\nAfter swap:\\nvar1 = {var1} and var2 = {var2}')"
   ]
  },
  {
   "attachments": {},
   "cell_type": "markdown",
   "metadata": {},
   "source": [
    "## Tuples"
   ]
  },
  {
   "cell_type": "code",
   "execution_count": 46,
   "metadata": {},
   "outputs": [
    {
     "data": {
      "text/plain": [
       "('pop',\n",
       " 'rock',\n",
       " 'soul',\n",
       " 'hard rock',\n",
       " 'soft rock',\n",
       " 'R&B',\n",
       " 'progressive rock',\n",
       " 'disco')"
      ]
     },
     "execution_count": 46,
     "metadata": {},
     "output_type": "execute_result"
    }
   ],
   "source": [
    "genres_tuple = (\"pop\", \"rock\", \"soul\", \"hard rock\", \"soft rock\", \\\n",
    "                \"R&B\", \"progressive rock\", \"disco\") \n",
    "genres_tuple"
   ]
  },
  {
   "attachments": {},
   "cell_type": "markdown",
   "metadata": {},
   "source": [
    "Find the length of the tuple, <code>genres_tuple</code>:"
   ]
  },
  {
   "cell_type": "code",
   "execution_count": 47,
   "metadata": {},
   "outputs": [
    {
     "data": {
      "text/plain": [
       "8"
      ]
     },
     "execution_count": 47,
     "metadata": {},
     "output_type": "execute_result"
    }
   ],
   "source": [
    "len(genres_tuple)"
   ]
  },
  {
   "attachments": {},
   "cell_type": "markdown",
   "metadata": {},
   "source": [
    "Access the element, with respect to index 3:"
   ]
  },
  {
   "cell_type": "code",
   "execution_count": 48,
   "metadata": {},
   "outputs": [
    {
     "data": {
      "text/plain": [
       "'hard rock'"
      ]
     },
     "execution_count": 48,
     "metadata": {},
     "output_type": "execute_result"
    }
   ],
   "source": [
    "genres_tuple[3]"
   ]
  },
  {
   "attachments": {},
   "cell_type": "markdown",
   "metadata": {},
   "source": [
    "Use slicing to obtain indexes 3, 4 and 5:"
   ]
  },
  {
   "cell_type": "code",
   "execution_count": 49,
   "metadata": {},
   "outputs": [
    {
     "data": {
      "text/plain": [
       "('hard rock', 'soft rock', 'R&B')"
      ]
     },
     "execution_count": 49,
     "metadata": {},
     "output_type": "execute_result"
    }
   ],
   "source": [
    "genres_tuple[3:6]"
   ]
  },
  {
   "attachments": {},
   "cell_type": "markdown",
   "metadata": {},
   "source": [
    "Find the first two elements of the tuple <code>genres_tuple</code>:"
   ]
  },
  {
   "cell_type": "code",
   "execution_count": 50,
   "metadata": {},
   "outputs": [
    {
     "data": {
      "text/plain": [
       "('pop', 'rock')"
      ]
     },
     "execution_count": 50,
     "metadata": {},
     "output_type": "execute_result"
    }
   ],
   "source": [
    "genres_tuple[0:2]"
   ]
  },
  {
   "attachments": {},
   "cell_type": "markdown",
   "metadata": {},
   "source": [
    "Find the first index of <code>\"disco\"</code>:"
   ]
  },
  {
   "cell_type": "code",
   "execution_count": 51,
   "metadata": {},
   "outputs": [
    {
     "data": {
      "text/plain": [
       "7"
      ]
     },
     "execution_count": 51,
     "metadata": {},
     "output_type": "execute_result"
    }
   ],
   "source": [
    "genres_tuple.index(\"disco\")"
   ]
  },
  {
   "attachments": {},
   "cell_type": "markdown",
   "metadata": {},
   "source": [
    "## Lists"
   ]
  },
  {
   "cell_type": "code",
   "execution_count": 70,
   "metadata": {},
   "outputs": [
    {
     "name": "stdout",
     "output_type": "stream",
     "text": [
      "[0, 1, 2, 3, 4]\n"
     ]
    }
   ],
   "source": [
    "lst = [x for x in range(5)]\n",
    "print(lst)"
   ]
  },
  {
   "cell_type": "code",
   "execution_count": 71,
   "metadata": {},
   "outputs": [
    {
     "data": {
      "text/plain": [
       "['0', '1', '2', '3', '4']"
      ]
     },
     "execution_count": 71,
     "metadata": {},
     "output_type": "execute_result"
    }
   ],
   "source": [
    "[str(x) for x in lst]"
   ]
  },
  {
   "cell_type": "code",
   "execution_count": 72,
   "metadata": {},
   "outputs": [
    {
     "name": "stdout",
     "output_type": "stream",
     "text": [
      "[69, 70, 71, 72, 73]\n"
     ]
    }
   ],
   "source": [
    "lst1= [x for x in range(69,74)]\n",
    "print (lst1)"
   ]
  },
  {
   "cell_type": "code",
   "execution_count": 73,
   "metadata": {},
   "outputs": [
    {
     "name": "stdout",
     "output_type": "stream",
     "text": [
      "[71, 72, 73]\n"
     ]
    }
   ],
   "source": [
    "print(lst1[2:])"
   ]
  },
  {
   "attachments": {},
   "cell_type": "markdown",
   "metadata": {},
   "source": [
    "## Sets"
   ]
  },
  {
   "attachments": {},
   "cell_type": "markdown",
   "metadata": {},
   "source": [
    "## Dictionaries"
   ]
  },
  {
   "cell_type": "code",
   "execution_count": null,
   "metadata": {},
   "outputs": [],
   "source": [
    "lst=[\"a\",\"b\",\"c\"]\n",
    "{k:v for k,v in enumerate(lst)}"
   ]
  },
  {
   "cell_type": "code",
   "execution_count": null,
   "metadata": {},
   "outputs": [],
   "source": [
    "x={0:'a',1:'b'}\n",
    "x.items()\n",
    "list(x.keys())\n",
    "list(x.values())"
   ]
  },
  {
   "cell_type": "code",
   "execution_count": null,
   "metadata": {},
   "outputs": [],
   "source": [
    "y={'a':[\"earth\",\"mars\"],\"b\":[\"cricket\",\"football\"]}\n",
    "print(y['a'][1])"
   ]
  },
  {
   "attachments": {},
   "cell_type": "markdown",
   "metadata": {},
   "source": [
    "## Loops"
   ]
  },
  {
   "attachments": {},
   "cell_type": "markdown",
   "metadata": {},
   "source": [
    "### For Loop"
   ]
  },
  {
   "cell_type": "code",
   "execution_count": 4,
   "metadata": {},
   "outputs": [
    {
     "name": "stdout",
     "output_type": "stream",
     "text": [
      "0\n",
      "1\n",
      "2\n"
     ]
    }
   ],
   "source": [
    "for i in range(0, 3):\n",
    "    print(i)"
   ]
  },
  {
   "cell_type": "code",
   "execution_count": 2,
   "metadata": {},
   "outputs": [
    {
     "name": "stdout",
     "output_type": "stream",
     "text": [
      "1982\n",
      "1980\n",
      "1973\n"
     ]
    }
   ],
   "source": [
    "dates = [1982,1980,1973]\n",
    "N = len(dates)\n",
    "\n",
    "for i in range(N):\n",
    "    print(dates[i])"
   ]
  },
  {
   "cell_type": "code",
   "execution_count": 5,
   "metadata": {},
   "outputs": [
    {
     "name": "stdout",
     "output_type": "stream",
     "text": [
      "1982\n",
      "1980\n",
      "1973\n"
     ]
    }
   ],
   "source": [
    "# Exmaple of for loop, loop through list\n",
    "\n",
    "for year in dates:  \n",
    "    print(year) "
   ]
  },
  {
   "cell_type": "code",
   "execution_count": 8,
   "metadata": {},
   "outputs": [
    {
     "name": "stdout",
     "output_type": "stream",
     "text": [
      "Before square  0 is red\n",
      "After square  0 is white\n",
      "Before square  1 is yellow\n",
      "After square  1 is white\n",
      "Before square  2 is green\n",
      "After square  2 is white\n"
     ]
    }
   ],
   "source": [
    "# Use for loop to change the elements in list\n",
    "\n",
    "squares = ['red', 'yellow', 'green']\n",
    "\n",
    "for i in range(0, 3):\n",
    "    print(\"Before square \", i, 'is',  squares[i])\n",
    "    squares[i] = 'white'\n",
    "    print(\"After square \", i, 'is',  squares[i])"
   ]
  },
  {
   "cell_type": "code",
   "execution_count": 9,
   "metadata": {},
   "outputs": [
    {
     "name": "stdout",
     "output_type": "stream",
     "text": [
      "0 red\n",
      "1 yellow\n",
      "2 green\n",
      "3 purple\n",
      "4 blue\n"
     ]
    }
   ],
   "source": [
    "# Loop through the list and iterate on both index and element value\n",
    "\n",
    "squares=['red', 'yellow', 'green', 'purple', 'blue']\n",
    "\n",
    "for i, square in enumerate(squares):\n",
    "    print(i, square)"
   ]
  },
  {
   "cell_type": "code",
   "execution_count": null,
   "metadata": {},
   "outputs": [],
   "source": [
    "lst=['a','b','c']\n",
    "\n",
    "for i,x in enumerate(lst):\n",
    "    if i%2==0:\n",
    "        {\n",
    "            print(x)\n",
    "        }"
   ]
  },
  {
   "attachments": {},
   "cell_type": "markdown",
   "metadata": {},
   "source": [
    "### While Loop"
   ]
  },
  {
   "cell_type": "code",
   "execution_count": 10,
   "metadata": {},
   "outputs": [
    {
     "name": "stdout",
     "output_type": "stream",
     "text": [
      "1982\n",
      "1980\n",
      "It took  2 repetitions to get out of loop.\n"
     ]
    }
   ],
   "source": [
    "# While Loop Example\n",
    "\n",
    "dates = [1982, 1980, 1973, 2000]\n",
    "\n",
    "i = 0\n",
    "year = dates[0]\n",
    "\n",
    "while(year != 1973):    \n",
    "    print(year)\n",
    "    i = i + 1\n",
    "    year = dates[i]\n",
    "    \n",
    "\n",
    "print(\"It took \", i ,\"repetitions to get out of loop.\")"
   ]
  },
  {
   "cell_type": "code",
   "execution_count": 74,
   "metadata": {},
   "outputs": [
    {
     "name": "stdout",
     "output_type": "stream",
     "text": [
      "5\n",
      "4\n",
      "3\n",
      "2\n"
     ]
    }
   ],
   "source": [
    "x=5\n",
    "\n",
    "while x>=2:\n",
    "    print(x)\n",
    "    x=x-1"
   ]
  },
  {
   "attachments": {},
   "cell_type": "markdown",
   "metadata": {},
   "source": [
    "### Quiz"
   ]
  },
  {
   "cell_type": "code",
   "execution_count": 11,
   "metadata": {},
   "outputs": [
    {
     "name": "stdout",
     "output_type": "stream",
     "text": [
      "-4\n",
      "-3\n",
      "-2\n",
      "-1\n",
      "0\n",
      "1\n",
      "2\n",
      "3\n",
      "4\n"
     ]
    }
   ],
   "source": [
    "# Write a for loop the prints out all the element between -5 and 5 using the range function\n",
    "\n",
    "for i in range(-4, 5):\n",
    "    print(i)"
   ]
  },
  {
   "cell_type": "code",
   "execution_count": 12,
   "metadata": {},
   "outputs": [
    {
     "name": "stdout",
     "output_type": "stream",
     "text": [
      "rock\n",
      "R&B\n",
      "Soundtrack\n",
      "R&B\n",
      "soul\n",
      "pop\n"
     ]
    }
   ],
   "source": [
    "# Print the elements of the following list. Make sure you follow Python conventions\n",
    "\n",
    "Genres = [ 'rock', 'R&B', 'Soundtrack', 'R&B', 'soul', 'pop']\n",
    "\n",
    "for Genre in Genres:\n",
    "    print(Genre)"
   ]
  },
  {
   "cell_type": "code",
   "execution_count": 13,
   "metadata": {},
   "outputs": [
    {
     "name": "stdout",
     "output_type": "stream",
     "text": [
      "10\n",
      "9.5\n",
      "10\n",
      "8\n",
      "7.5\n"
     ]
    }
   ],
   "source": [
    "# Write a while loop to display the values of the Rating of an album playlist stored in the list PlayListRatings. If the score is less than 6, exit the loop. The list PlayListRatings is given by:\n",
    "\n",
    "PlayListRatings = [10, 9.5, 10, 8, 7.5, 5, 10, 10]\n",
    "\n",
    "i = 0\n",
    "rating = PlayListRatings[0]\n",
    "\n",
    "while(i < len(PlayListRatings) and rating >= 6):\n",
    "    print(rating)\n",
    "    i = i + 1 \n",
    "    rating = PlayListRatings[i]"
   ]
  },
  {
   "attachments": {},
   "cell_type": "markdown",
   "metadata": {},
   "source": [
    "## Functions"
   ]
  },
  {
   "attachments": {},
   "cell_type": "markdown",
   "metadata": {},
   "source": [
    "A function is a reusable block of code which performs operations specified in the function. They let you break down tasks and allow you to reuse your code in different programs.\n",
    "\n",
    "There are two types of functions :\n",
    "\n",
    "- <b>Pre-defined functions</b>\n",
    "- <b>User defined functions</b>"
   ]
  },
  {
   "attachments": {},
   "cell_type": "markdown",
   "metadata": {},
   "source": [
    "You can define functions to provide the required functionality. Here are simple rules to define a function in Python:\n",
    "-  Functions blocks begin <code>def</code> followed by the function <code>name</code> and parentheses <code>()</code>.\n",
    "-  There are input parameters or arguments that should be placed within these parentheses. \n",
    "-  You can also define parameters inside these parentheses.\n",
    "-  There is a body within every function that starts with a colon (<code>:</code>) and is indented.\n",
    "-  You can also place documentation before the body. \n",
    "-  The statement <code>return</code> exits a function, optionally passing back a value. "
   ]
  },
  {
   "cell_type": "code",
   "execution_count": 14,
   "metadata": {},
   "outputs": [],
   "source": [
    "def mult(a, b):\n",
    "    return (a * b)"
   ]
  },
  {
   "cell_type": "code",
   "execution_count": 15,
   "metadata": {},
   "outputs": [
    {
     "data": {
      "text/plain": [
       "6"
      ]
     },
     "execution_count": 15,
     "metadata": {},
     "output_type": "execute_result"
    }
   ],
   "source": [
    "mult(2, 3)"
   ]
  },
  {
   "cell_type": "code",
   "execution_count": 16,
   "metadata": {},
   "outputs": [
    {
     "data": {
      "text/plain": [
       "31.400000000000002"
      ]
     },
     "execution_count": 16,
     "metadata": {},
     "output_type": "execute_result"
    }
   ],
   "source": [
    "mult(10.0, 3.14)"
   ]
  },
  {
   "cell_type": "code",
   "execution_count": 17,
   "metadata": {},
   "outputs": [
    {
     "data": {
      "text/plain": [
       "'Michael Jackson Michael Jackson '"
      ]
     },
     "execution_count": 17,
     "metadata": {},
     "output_type": "execute_result"
    }
   ],
   "source": [
    "mult(2, \"Michael Jackson \")"
   ]
  },
  {
   "cell_type": "code",
   "execution_count": 18,
   "metadata": {},
   "outputs": [],
   "source": [
    "def isGoodRating(rating=4): \n",
    "    if(rating < 7):\n",
    "        print(\"this album sucks it's rating is\",rating)\n",
    "    else:\n",
    "        print(\"this album is good its rating is\",rating)"
   ]
  },
  {
   "cell_type": "code",
   "execution_count": 19,
   "metadata": {},
   "outputs": [
    {
     "name": "stdout",
     "output_type": "stream",
     "text": [
      "this album sucks it's rating is 4\n",
      "this album is good its rating is 10\n"
     ]
    }
   ],
   "source": [
    "isGoodRating()\n",
    "isGoodRating(10)"
   ]
  },
  {
   "attachments": {},
   "cell_type": "markdown",
   "metadata": {},
   "source": [
    "When the number of arguments  are unknown for a function, They can all be packed into a tuple as shown:"
   ]
  },
  {
   "cell_type": "code",
   "execution_count": 22,
   "metadata": {},
   "outputs": [
    {
     "name": "stdout",
     "output_type": "stream",
     "text": [
      "No of arguments: 3\n",
      "Horsefeather\n",
      "Adonis\n",
      "Bone\n",
      "No of arguments: 4\n",
      "Sidecar\n",
      "Long Island\n",
      "Mudslide\n",
      "Carriage\n"
     ]
    }
   ],
   "source": [
    "def printAll(*args): # All the arguments are 'packed' into args which can be treated like a tuple\n",
    "    print(\"No of arguments:\", len(args)) \n",
    "    for argument in args:\n",
    "        print(argument)\n",
    "        \n",
    "#printAll with 3 arguments\n",
    "printAll('Horsefeather','Adonis','Bone')\n",
    "\n",
    "#printAll with 4 arguments\n",
    "printAll('Sidecar','Long Island','Mudslide','Carriage')"
   ]
  },
  {
   "attachments": {},
   "cell_type": "markdown",
   "metadata": {},
   "source": [
    "Similarly, The arguments can also be packed into a dictionary as shown:"
   ]
  },
  {
   "cell_type": "code",
   "execution_count": 23,
   "metadata": {},
   "outputs": [
    {
     "name": "stdout",
     "output_type": "stream",
     "text": [
      "Country : Canada\n",
      "Province : Ontario\n",
      "City : Toronto\n"
     ]
    }
   ],
   "source": [
    "def printDictionary(**args):\n",
    "    for key in args:\n",
    "        print(key + \" : \" + args[key])\n",
    "\n",
    "printDictionary(Country='Canada', Province='Ontario', City='Toronto')"
   ]
  },
  {
   "attachments": {},
   "cell_type": "markdown",
   "metadata": {},
   "source": [
    "## Classes"
   ]
  },
  {
   "cell_type": "code",
   "execution_count": null,
   "metadata": {},
   "outputs": [],
   "source": [
    "# Create a class Circle\n",
    "\n",
    "class Circle(object):\n",
    "    \n",
    "    # Constructor\n",
    "    def __init__(self, radius=3, color='blue'):\n",
    "        self.radius = radius\n",
    "        self.color = color \n",
    "    \n",
    "    # Method\n",
    "    def add_radius(self, r):\n",
    "        self.radius = self.radius + r\n",
    "        return(self.radius)\n",
    "    \n",
    "    # Method\n",
    "    def drawCircle(self):\n",
    "        plt.gca().add_patch(plt.Circle((0, 0), radius=self.radius, fc=self.color))\n",
    "        plt.axis('scaled')\n",
    "        plt.show()  \n",
    "        \n",
    "        \n",
    "# Create an object RedCircle\n",
    "RedCircle = Circle(10, 'red')\n",
    "\n",
    "# Find out the methods can be used on the object RedCircle\n",
    "dir(RedCircle)\n",
    "\n",
    "# Print the object attribute radius\n",
    "RedCircle.radius\n",
    "\n",
    "# Print the object attribute color\n",
    "RedCircle.color\n",
    "\n",
    "# Set the object attribute radius\n",
    "RedCircle.radius = 1\n",
    "RedCircle.radius\n",
    "\n",
    "# Call the method drawCircle\n",
    "RedCircle.drawCircle()\n",
    "\n",
    "# Use method to change the object attribute radius\n",
    "print('Radius of object:',RedCircle.radius)\n",
    "RedCircle.add_radius(2)\n",
    "print('Radius of object of after applying the method add_radius(2):',RedCircle.radius)\n",
    "RedCircle.add_radius(5)\n",
    "print('Radius of object of after applying the method add_radius(5):',RedCircle.radius)\n",
    "\n",
    "# Create a blue circle with a given radius\n",
    "BlueCircle = Circle(radius=100)\n",
    "BlueCircle.drawCircle()"
   ]
  },
  {
   "cell_type": "code",
   "execution_count": null,
   "metadata": {},
   "outputs": [],
   "source": [
    "# Create a new Rectangle class for creating a rectangle object\n",
    "\n",
    "class Rectangle(object):\n",
    "    \n",
    "    # Constructor\n",
    "    def __init__(self, width=2, height=3, color='r'):\n",
    "        self.height = height \n",
    "        self.width = width\n",
    "        self.color = color\n",
    "    \n",
    "    # Method\n",
    "    def drawRectangle(self):\n",
    "        plt.gca().add_patch(plt.Rectangle((0, 0), self.width, self.height ,fc=self.color))\n",
    "        plt.axis('scaled')\n",
    "        plt.show()\n",
    "        \n",
    "        \n",
    "# Create a new object rectangle\n",
    "SkinnyBlueRectangle = Rectangle(2, 3, 'blue')\n",
    "\n",
    "# Print the object attribute height\n",
    "SkinnyBlueRectangle.height \n",
    "\n",
    "# Print the object attribute width\n",
    "SkinnyBlueRectangle.width\n",
    "\n",
    "# Print the object attribute color\n",
    "SkinnyBlueRectangle.color\n",
    "\n",
    "# Use the drawRectangle method to draw the shape\n",
    "SkinnyBlueRectangle.drawRectangle()\n",
    "\n",
    "# Create a new object rectangle\n",
    "FatYellowRectangle = Rectangle(20, 5, 'yellow')\n",
    "FatYellowRectangle.drawRectangle()"
   ]
  },
  {
   "cell_type": "code",
   "execution_count": 59,
   "metadata": {},
   "outputs": [
    {
     "name": "stdout",
     "output_type": "stream",
     "text": [
      "John\n",
      "Young person\n"
     ]
    }
   ],
   "source": [
    "class Person:\n",
    "    def __init__(self,name,age):\n",
    "        self.name = name\n",
    "        self.age = age\n",
    "    \n",
    "    def first_name(self):\n",
    "        return self.name.split()[0]\n",
    "    \n",
    "    def age_category(self):\n",
    "        if self.age < 18:\n",
    "            return \"Child\"\n",
    "        elif self.age >=18 and self.age < 60:\n",
    "            return \"Young person\"\n",
    "        return \"Senior citizen\"\n",
    "        \n",
    "    \n",
    "p1 = Person(\"John Doe\",37)\n",
    "print(p1.first_name())\n",
    "\n",
    "print(p1.age_category())"
   ]
  },
  {
   "cell_type": "code",
   "execution_count": 60,
   "metadata": {},
   "outputs": [
    {
     "name": "stdout",
     "output_type": "stream",
     "text": [
      "The age of Jhon Doe is 40.\n",
      "And the Social security number is 123443\n",
      "('Jhon Doe', 40, 123443)\n"
     ]
    }
   ],
   "source": [
    "class Patient(Person):\n",
    "    def __init__(self,name,age,ssn):\n",
    "        super().__init__(name,age)\n",
    "        self.ssn = ssn\n",
    "        \n",
    "    def __str__(self):\n",
    "        s = \"The age of \"+str(self.name) +\" is \" + str(self.age) + \".\\n\"\n",
    "        s += \"And the Social security number is \"+ str(self.ssn)\n",
    "        return s\n",
    "   \n",
    "    def __repr__(self):\n",
    "        s = f\"('{self.name}', {self.age}, {self.ssn})\"\n",
    "        return s\n",
    "patient1 = Patient(\"Jhon Doe\",40,123443)\n",
    "\n",
    "print(patient1)\n",
    "print(patient1.__repr__())"
   ]
  },
  {
   "cell_type": "code",
   "execution_count": 61,
   "metadata": {},
   "outputs": [
    {
     "name": "stdout",
     "output_type": "stream",
     "text": [
      "fname: Rakesh, lname:reddy, age: 25,subjects: ['Python', 'Big-data']\n",
      "['Python', 'Big-data']\n",
      "(Rakesh, reddy, 25, ['Python', 'Big-data'])\n",
      "275\n",
      "fname: Jennifer, lname:Connley, age: 20, Total marks: 275\n"
     ]
    }
   ],
   "source": [
    "class Person:\n",
    "    def __init__(self,fname,lname,age):\n",
    "        self.fname = fname\n",
    "        self.lname = lname\n",
    "        self.age = age\n",
    "        \n",
    "    def __str__(self):\n",
    "        s = f\"fname: {self.fname}, lname:{self.lname}, age: {self.age}\"\n",
    "        return s\n",
    "\n",
    "class Student(Person):\n",
    "    def __init__(self,fname,lname,age,reg_no,maths,science,english):\n",
    "        super().__init__(fname,lname,age)\n",
    "        self.reg_no = reg_no\n",
    "        self.maths = maths\n",
    "        self.science = science\n",
    "        self.english = english\n",
    "    def get_total_marks(self):\n",
    "        return self.maths + self.science + self.english\n",
    "    \n",
    "    def __str__(self):\n",
    "        s = f\"{super().__str__()}, Total marks: {self.get_total_marks()}\"\n",
    "        \n",
    "        return s\n",
    "    \n",
    "    def __repr__(self):\n",
    "        s = f\"({self.fname}, {self.lname}, {self.age}, {self.maths}, {self.science}, {self.english})\"\n",
    "        return s\n",
    "        \n",
    "    \n",
    "\n",
    "class Teacher(Person):\n",
    "    def __init__(self,fname,lname,age,subjects):\n",
    "        super().__init__(fname,lname,age)\n",
    "        self.subjects = subjects\n",
    "        \n",
    "    def get_subjects(self):\n",
    "        return self.subjects\n",
    "    \n",
    "    def __str__(self):\n",
    "        return f\"{super().__str__()},subjects: {self.subjects}\"\n",
    "        \n",
    "    def __repr__(self):\n",
    "        s = f\"({self.fname}, {self.lname}, {self.age}, {self.subjects})\"\n",
    "        return s\n",
    "        \n",
    "    \n",
    "    \n",
    "\n",
    "t1 = Teacher(\"Rakesh\",\"reddy\",25,['Python','Big-data'])\n",
    "t2 = Teacher(\"Virat\",\"Kohli\",34,['Airflow','Pyspark'])\n",
    "\n",
    "print(t1.__str__())\n",
    "print(t1.get_subjects())\n",
    "\n",
    "print(t1.__repr__())\n",
    "        \n",
    "s1 = Student(\"Jennifer\",\"Connley\",20,'S1234',90,90,95)\n",
    "\n",
    "print(s1.get_total_marks())\n",
    "\n",
    "print(s1.__str__())"
   ]
  },
  {
   "cell_type": "code",
   "execution_count": 62,
   "metadata": {},
   "outputs": [
    {
     "name": "stdout",
     "output_type": "stream",
     "text": [
      "fname: Rakesh, lname:reddy, age: 25,subjects: ['Python', 'Big-data']\n",
      "fname: Virat, lname:Kohli, age: 34,subjects: ['Airflow', 'Pyspark']\n"
     ]
    }
   ],
   "source": [
    "class HOD(Teacher):\n",
    "    def __init__(self,department,teachers):\n",
    "        self.deparment = department\n",
    "        self.teachers = teachers\n",
    "        \n",
    "    def get_teacher_details(self):\n",
    "        for t in self.teachers:\n",
    "            print(t.__str__())\n",
    "            \n",
    "            \n",
    "h = HOD('Big-data',[t1,t2])\n",
    "\n",
    "h.get_teacher_details()"
   ]
  },
  {
   "cell_type": "code",
   "execution_count": 63,
   "metadata": {},
   "outputs": [
    {
     "name": "stdout",
     "output_type": "stream",
     "text": [
      "e_manager, 34, Delhi\n",
      "e1, 20, Banglore, 20000\n",
      "e2, 22, Hyderabad, 25000\n",
      "e3, 24, Mumbai, 26000\n"
     ]
    }
   ],
   "source": [
    "class Person:\n",
    "    def __init__(self,name,age,address):\n",
    "        self.name = name\n",
    "        self.age = age\n",
    "        self.address = address\n",
    "        \n",
    "    def __str__(self):\n",
    "        s = f'{self.name}, {self.age}, {self.address}'\n",
    "        return s\n",
    "    def __repr__(self):\n",
    "        s = f'({self.__str__()})'\n",
    "        return s\n",
    "    \n",
    "    \n",
    "class Employee(Person):\n",
    "    def __init__(self,name,age,address,salary):\n",
    "        super().__init__(name,age,address)\n",
    "        self.salary = salary\n",
    "    def __str__(self):\n",
    "        s = f'{super().__str__()}, {self.salary}'\n",
    "        return s\n",
    "\n",
    "class SalesEmployee(Employee):\n",
    "    def __init__(self,name,age,address,salary,bonus):\n",
    "        super().__init__(name,age,address,salary)\n",
    "        self.bonus = bonus\n",
    "    def __str__(self):\n",
    "        s = f'{super().__str(),{self.bonus}}'\n",
    "        return s\n",
    "    \n",
    "    \n",
    "class Manager(Person):\n",
    "    def __init__(self,name,age,address,employees_managed):\n",
    "        super().__init__(name,age,address)\n",
    "        self.emp_managed = employees_managed\n",
    "    def get_employees_details(self):\n",
    "        for emp in self.emp_managed:\n",
    "            print(emp.__str__())\n",
    "            \n",
    "            \n",
    "            \n",
    "e1 = Employee('e1',20,'Banglore',20000)\n",
    "e2 = Employee('e2',22,'Hyderabad',25000)\n",
    "e3 = Employee('e3',24,'Mumbai',26000)\n",
    "\n",
    "m1 = Manager('e_manager',34,'Delhi',[e1,e2,e3])\n",
    "\n",
    "print(m1.__str__())\n",
    "m1.get_employees_details()"
   ]
  },
  {
   "cell_type": "code",
   "execution_count": 65,
   "metadata": {},
   "outputs": [
    {
     "name": "stdout",
     "output_type": "stream",
     "text": [
      "testHr\n",
      "hi hr user\n"
     ]
    }
   ],
   "source": [
    "# abstract class is a type of class which contains some type of implementation\n",
    "#such that it should be implemented in the child classes\n",
    "\n",
    "from abc import ABC, abstractmethod\n",
    "class Department(ABC):\n",
    "    salary = 1000\n",
    "    \n",
    "    @abstractmethod\n",
    "    def departmentInfo(self):\n",
    "        pass\n",
    "    @abstractmethod\n",
    "    def test(self):\n",
    "        print(\"tested\")\n",
    "    \n",
    "class DataEngineering(Department):\n",
    "    salary = 1500\n",
    "    \n",
    "    def departmentInfo(self):\n",
    "        print(\"hi user\")\n",
    "        \n",
    "    def test(self):\n",
    "        print(\"hi DE user\")\n",
    "        \n",
    "class hr(DataEngineering):\n",
    "    def departmentInfo(self):\n",
    "        print(\"hr deptinfo\")\n",
    "    \n",
    "    def testHr(self):\n",
    "        print(\"testHr\")\n",
    "        \n",
    "    def test(self):\n",
    "        print(\"hi hr user\")\n",
    "        \n",
    "        \n",
    "# d = Department()\n",
    "md1 = DataEngineering()\n",
    "\n",
    "h1 = hr()\n",
    "\n",
    "h1.testHr()\n",
    "h1.test()"
   ]
  },
  {
   "attachments": {},
   "cell_type": "markdown",
   "metadata": {},
   "source": [
    "### Quiz"
   ]
  },
  {
   "attachments": {},
   "cell_type": "markdown",
   "metadata": {},
   "source": [
    "You have been recruited by your friend, a linguistics enthusiast, to create a utility tool that can perform analysis on a given piece of text. Complete the class\n",
    "'analysedText' with the following methods -\n",
    "\n",
    "<ul>\n",
    "    <li> Constructor (__init__) - This method should take the argument <code>text</code>, make it lower case, and remove all punctuation.  Assume only the following punctuation is used: period (.), exclamation mark (!), comma (,) and question mark (?). Assign this newly formatted text to a new attribute called <code>fmtText</code>.\n",
    "    <li> freqAll - This method should create and <strong>return</strong> dictionary of all unique words in the text, along with the number of times they occur in the text. Each key in the dictionary should be the unique word appearing in the text and the associated value should be the number of times it occurs in the text. Create this dictionary from the <code>fmtText</code> attribute.\n",
    "    <li> freqOf - This method should take a word as an argument and <strong>return</strong> the number of occurrences of that word in <code>fmtText</code>.\n",
    "</ul>\n",
    " The skeleton code has been given to you. Docstrings can be ignored for the purpose of the exercise. <br>\n",
    " <i> Hint: Some useful functions are <code>replace()</code>, <code>lower()</code>, <code>split()</code>, <code>count()</code> </i><br>"
   ]
  },
  {
   "cell_type": "code",
   "execution_count": null,
   "metadata": {},
   "outputs": [],
   "source": [
    "class analysedText(object):\n",
    "    \n",
    "    def __init__ (self, text):\n",
    "\n",
    "        # TODO: Remove the punctuation from <text> and make it lower case.\n",
    "\n",
    "        # TODO: Assign the formatted text to a new attribute called \"fmtText\"\n",
    "        \n",
    "        pass \n",
    "    \n",
    "    def freqAll(self):    \n",
    "\n",
    "        # TODO: Split the text into a list of words  \n",
    "\n",
    "        # TODO: Create a dictionary with the unique words in the text as keys\n",
    "        # and the number of times they occur in the text as values\n",
    "      \n",
    "        pass # return the created dictionary\n",
    "    \n",
    "    def freqOf(self, word):\n",
    "\n",
    "        # TODO: return the number of occurrences of <word> in <fmtText>\n",
    "\n",
    "        pass"
   ]
  },
  {
   "attachments": {},
   "cell_type": "markdown",
   "metadata": {},
   "source": [
    "You can run the code cell below to test your functions to ensure they are working correctly. First execute the code cell in which you implemented your solution, then execute the code cell to test your implementation."
   ]
  },
  {
   "cell_type": "code",
   "execution_count": null,
   "metadata": {},
   "outputs": [],
   "source": [
    "import sys\n",
    "\n",
    "sampleMap = {'eirmod': 1,'sed': 1, 'amet': 2, 'diam': 5, 'consetetur': 1, 'labore': 1, 'tempor': 1, 'dolor': 1, 'magna': 2, 'et': 3, 'nonumy': 1, 'ipsum': 1, 'lorem': 2}\n",
    "\n",
    "def testMsg(passed):\n",
    "    if passed:\n",
    "       return 'Test Passed'\n",
    "    else :\n",
    "       return 'Test Failed'\n",
    "\n",
    "print(\"Constructor: \")\n",
    "try:\n",
    "    samplePassage = analysedText(\"Lorem ipsum dolor! diam amet, consetetur Lorem magna. sed diam nonumy eirmod tempor. diam et labore? et diam magna. et diam amet.\")\n",
    "    print(testMsg(samplePassage.fmtText == \"lorem ipsum dolor diam amet consetetur lorem magna sed diam nonumy eirmod tempor diam et labore et diam magna et diam amet\"))\n",
    "except:\n",
    "    print(\"Error detected. Recheck your function \" )\n",
    "print(\"freqAll: \")\n",
    "try:\n",
    "    wordMap = samplePassage.freqAll()\n",
    "    print(testMsg(wordMap==sampleMap))\n",
    "except:\n",
    "    print(\"Error detected. Recheck your function \" )\n",
    "print(\"freqOf: \")\n",
    "try:\n",
    "    passed = True\n",
    "    for word in sampleMap:\n",
    "        if samplePassage.freqOf(word) != sampleMap[word]:\n",
    "            passed = False\n",
    "            break\n",
    "    print(testMsg(passed))\n",
    "    \n",
    "except:\n",
    "    print(\"Error detected. Recheck your function  \" )"
   ]
  },
  {
   "attachments": {},
   "cell_type": "markdown",
   "metadata": {},
   "source": [
    "Solution:"
   ]
  },
  {
   "cell_type": "code",
   "execution_count": null,
   "metadata": {},
   "outputs": [],
   "source": [
    "class analysedText(object):\n",
    "    \n",
    "    def __init__ (self, text):\n",
    "        # remove punctuation\n",
    "        formattedText = text.replace('.','').replace('!','').replace('?','').replace(',','')\n",
    "        \n",
    "        # make text lowercase\n",
    "        formattedText = formattedText.lower()\n",
    "        \n",
    "        self.fmtText = formattedText\n",
    "        \n",
    "    def freqAll(self):        \n",
    "        # split text into words\n",
    "        wordList = self.fmtText.split(' ')\n",
    "        \n",
    "        # Create dictionary\n",
    "        freqMap = {}\n",
    "        for word in set(wordList): # use set to remove duplicates in list\n",
    "            freqMap[word] = wordList.count(word)\n",
    "        \n",
    "        return freqMap\n",
    "    \n",
    "    def freqOf(self,word):\n",
    "        # get frequency map\n",
    "        freqDict = self.freqAll()\n",
    "        \n",
    "        if word in freqDict:\n",
    "            return freqDict[word]\n",
    "        else:\n",
    "            return 0"
   ]
  },
  {
   "attachments": {},
   "cell_type": "markdown",
   "metadata": {},
   "source": [
    "## Exception Handling"
   ]
  },
  {
   "cell_type": "code",
   "execution_count": 52,
   "metadata": {},
   "outputs": [
    {
     "ename": "ZeroDivisionError",
     "evalue": "division by zero",
     "output_type": "error",
     "traceback": [
      "\u001b[0;31m---------------------------------------------------------------------------\u001b[0m",
      "\u001b[0;31mZeroDivisionError\u001b[0m                         Traceback (most recent call last)",
      "\u001b[0;32m<ipython-input-52-9e1622b385b6>\u001b[0m in \u001b[0;36m<module>\u001b[0;34m\u001b[0m\n\u001b[0;32m----> 1\u001b[0;31m \u001b[0;36m1\u001b[0m\u001b[0;34m/\u001b[0m\u001b[0;36m0\u001b[0m\u001b[0;34m\u001b[0m\u001b[0;34m\u001b[0m\u001b[0m\n\u001b[0m",
      "\u001b[0;31mZeroDivisionError\u001b[0m: division by zero"
     ]
    }
   ],
   "source": [
    "1/0"
   ]
  },
  {
   "attachments": {},
   "cell_type": "markdown",
   "metadata": {},
   "source": [
    "<code>ZeroDivisionError</code> occurs when you try to divide by zero."
   ]
  },
  {
   "cell_type": "code",
   "execution_count": 53,
   "metadata": {},
   "outputs": [
    {
     "ename": "NameError",
     "evalue": "name 'a' is not defined",
     "output_type": "error",
     "traceback": [
      "\u001b[0;31m---------------------------------------------------------------------------\u001b[0m",
      "\u001b[0;31mNameError\u001b[0m                                 Traceback (most recent call last)",
      "\u001b[0;32m<ipython-input-53-6ddcec040107>\u001b[0m in \u001b[0;36m<module>\u001b[0;34m\u001b[0m\n\u001b[0;32m----> 1\u001b[0;31m \u001b[0my\u001b[0m \u001b[0;34m=\u001b[0m \u001b[0ma\u001b[0m \u001b[0;34m+\u001b[0m \u001b[0;36m5\u001b[0m\u001b[0;34m\u001b[0m\u001b[0;34m\u001b[0m\u001b[0m\n\u001b[0m",
      "\u001b[0;31mNameError\u001b[0m: name 'a' is not defined"
     ]
    }
   ],
   "source": [
    "y = a + 5"
   ]
  },
  {
   "attachments": {},
   "cell_type": "markdown",
   "metadata": {},
   "source": [
    "<code>NameError</code> -- in this case, it means that you tried to use the variable a when it was not defined."
   ]
  },
  {
   "cell_type": "code",
   "execution_count": 54,
   "metadata": {},
   "outputs": [
    {
     "ename": "IndexError",
     "evalue": "list index out of range",
     "output_type": "error",
     "traceback": [
      "\u001b[0;31m---------------------------------------------------------------------------\u001b[0m",
      "\u001b[0;31mIndexError\u001b[0m                                Traceback (most recent call last)",
      "\u001b[0;32m<ipython-input-54-3f911ca4e3d3>\u001b[0m in \u001b[0;36m<module>\u001b[0;34m\u001b[0m\n\u001b[1;32m      1\u001b[0m \u001b[0ma\u001b[0m \u001b[0;34m=\u001b[0m \u001b[0;34m[\u001b[0m\u001b[0;36m1\u001b[0m\u001b[0;34m,\u001b[0m \u001b[0;36m2\u001b[0m\u001b[0;34m,\u001b[0m \u001b[0;36m3\u001b[0m\u001b[0;34m]\u001b[0m\u001b[0;34m\u001b[0m\u001b[0;34m\u001b[0m\u001b[0m\n\u001b[0;32m----> 2\u001b[0;31m \u001b[0ma\u001b[0m\u001b[0;34m[\u001b[0m\u001b[0;36m10\u001b[0m\u001b[0;34m]\u001b[0m\u001b[0;34m\u001b[0m\u001b[0;34m\u001b[0m\u001b[0m\n\u001b[0m",
      "\u001b[0;31mIndexError\u001b[0m: list index out of range"
     ]
    }
   ],
   "source": [
    "a = [1, 2, 3]\n",
    "a[10]"
   ]
  },
  {
   "attachments": {},
   "cell_type": "markdown",
   "metadata": {},
   "source": [
    "<code>IndexError</code> - in this case, it occured because you tried to access data from a list using an index that does not exist for this list."
   ]
  },
  {
   "attachments": {},
   "cell_type": "markdown",
   "metadata": {},
   "source": [
    "There are many more exceptions that are built into Python, here is a list of them https://docs.python.org/3/library/exceptions.html"
   ]
  },
  {
   "attachments": {},
   "cell_type": "markdown",
   "metadata": {},
   "source": [
    "A <code>try except</code> will allow you to execute code that might raise an exception and in the case of any exception or a specific one we can handle or catch the exception and execute specific code. This will allow us to continue the execution of our program even if there is an exception.\n",
    "\n",
    "Python tries to execute the code in the <code>try</code> block. In this case if there is any exception raised by the code in the <code>try</code> block, it will be caught and the code block in the <code>except</code> block will be executed. After that, the code that comes <em>after</em> the try except will be executed.\n"
   ]
  },
  {
   "cell_type": "code",
   "execution_count": 55,
   "metadata": {},
   "outputs": [
    {
     "name": "stdout",
     "output_type": "stream",
     "text": [
      "Success a= 0.1\n"
     ]
    }
   ],
   "source": [
    "a = 1\n",
    "\n",
    "try:\n",
    "    b = int(input(\"Please enter a number to divide a\"))\n",
    "    a = a/b\n",
    "    print(\"Success a=\",a)\n",
    "except:\n",
    "    print(\"There was an error\")"
   ]
  },
  {
   "attachments": {},
   "cell_type": "markdown",
   "metadata": {},
   "source": [
    "```py\n",
    "# potential code before try catch\n",
    "\n",
    "try:\n",
    "    # code to try to execute\n",
    "except ZeroDivisionError:\n",
    "    # code to execute if there is a ZeroDivisionError\n",
    "except NameError:\n",
    "    # code to execute if there is a NameError\n",
    "except:\n",
    "    # code to execute if ther is any exception\n",
    "else:\n",
    "    # code to execute if there is no exception\n",
    "finally:\n",
    "    # code to execute at the end of the try except no matter what\n",
    "    \n",
    "# code that will execute if there is no exception or a one that we are handling\n",
    "```"
   ]
  },
  {
   "cell_type": "code",
   "execution_count": 57,
   "metadata": {},
   "outputs": [
    {
     "name": "stdout",
     "output_type": "stream",
     "text": [
      "The number you provided cant divide 1 because it is 0\n",
      "Processing Complete\n"
     ]
    }
   ],
   "source": [
    "a = 1\n",
    "b = 0\n",
    "\n",
    "try:\n",
    "    a = a/b\n",
    "except ZeroDivisionError:\n",
    "    print(\"The number you provided cant divide 1 because it is 0\")\n",
    "except ValueError:\n",
    "    print(\"You did not provide a number\")\n",
    "except:\n",
    "    print(\"Something went wrong\")\n",
    "else:\n",
    "    print(\"success a=\",a)\n",
    "finally:\n",
    "    print(\"Processing Complete\")"
   ]
  },
  {
   "cell_type": "code",
   "execution_count": 64,
   "metadata": {},
   "outputs": [
    {
     "name": "stdout",
     "output_type": "stream",
     "text": [
      "main FileNotFound\n",
      "Alternate file not found\n"
     ]
    }
   ],
   "source": [
    "path = './Assignment_1.txt'\n",
    "alternate_path = './Assignment/code.txt'\n",
    "txt_file = None\n",
    "try:\n",
    "    with open(path,'r') as file:\n",
    "        data = file.read()\n",
    "        print(data)\n",
    "except FileNotFoundError as e:\n",
    "    print(\"main FileNotFound\")\n",
    "    try:\n",
    "        txt_file = open(alternate_path,'r')\n",
    "        print(txt_file)\n",
    "    except:\n",
    "        print(\"Alternate file not found\")\n",
    "except Exception:\n",
    "    print(\"Unexpected error\")\n",
    "finally:\n",
    "    if txt_file is not None:\n",
    "        txt_file.close()\n",
    "        print(\"file closed\")"
   ]
  },
  {
   "attachments": {},
   "cell_type": "markdown",
   "metadata": {},
   "source": [
    "## Read File"
   ]
  },
  {
   "cell_type": "code",
   "execution_count": 28,
   "metadata": {},
   "outputs": [
    {
     "name": "stdout",
     "output_type": "stream",
     "text": [
      "../data/Example1.txt\n"
     ]
    }
   ],
   "source": [
    "# Read the Example1.txt\n",
    "example1 = \"../data/Example1.txt\"\n",
    "file1 = open(example1, \"r\")\n",
    "\n",
    "# Print the path of file\n",
    "print(file1.name)"
   ]
  },
  {
   "cell_type": "code",
   "execution_count": 29,
   "metadata": {},
   "outputs": [
    {
     "name": "stdout",
     "output_type": "stream",
     "text": [
      "r\n"
     ]
    }
   ],
   "source": [
    "# Print the mode of file, either 'r' or 'w'\n",
    "print(file1.mode)"
   ]
  },
  {
   "cell_type": "code",
   "execution_count": 30,
   "metadata": {},
   "outputs": [
    {
     "data": {
      "text/plain": [
       "'This is line 1 \\nThis is line 2\\nThis is line 3'"
      ]
     },
     "execution_count": 30,
     "metadata": {},
     "output_type": "execute_result"
    }
   ],
   "source": [
    "# Read the file\n",
    "FileContent = file1.read()\n",
    "FileContent"
   ]
  },
  {
   "cell_type": "code",
   "execution_count": 31,
   "metadata": {},
   "outputs": [
    {
     "name": "stdout",
     "output_type": "stream",
     "text": [
      "This is line 1 \n",
      "This is line 2\n",
      "This is line 3\n"
     ]
    }
   ],
   "source": [
    "# Print the file with '\\n' as a new line\n",
    "print(FileContent)"
   ]
  },
  {
   "attachments": {},
   "cell_type": "markdown",
   "metadata": {},
   "source": [
    "It is very important that the file is closed in the end. This frees up resources and ensures consistency across different python versions."
   ]
  },
  {
   "cell_type": "code",
   "execution_count": 32,
   "metadata": {},
   "outputs": [],
   "source": [
    "# Close file after finish\n",
    "file1.close()"
   ]
  },
  {
   "cell_type": "code",
   "execution_count": 33,
   "metadata": {},
   "outputs": [
    {
     "name": "stdout",
     "output_type": "stream",
     "text": [
      "This\n",
      " is \n",
      "line 1 \n",
      "\n",
      "This is line 2\n"
     ]
    }
   ],
   "source": [
    "# Read certain amount of characters\n",
    "\n",
    "with open(example1, \"r\") as file1:\n",
    "    print(file1.read(4))\n",
    "    print(file1.read(4))\n",
    "    print(file1.read(7))\n",
    "    print(file1.read(15))"
   ]
  },
  {
   "cell_type": "code",
   "execution_count": 34,
   "metadata": {},
   "outputs": [
    {
     "name": "stdout",
     "output_type": "stream",
     "text": [
      "first line: This is line 1 \n",
      "\n"
     ]
    }
   ],
   "source": [
    "# Read one line\n",
    "\n",
    "with open(example1, \"r\") as file1:\n",
    "    print(\"first line: \" + file1.readline())"
   ]
  },
  {
   "cell_type": "code",
   "execution_count": 36,
   "metadata": {},
   "outputs": [
    {
     "data": {
      "text/plain": [
       "['This is line 1 \\n', 'This is line 2\\n', 'This is line 3']"
      ]
     },
     "execution_count": 36,
     "metadata": {},
     "output_type": "execute_result"
    }
   ],
   "source": [
    "# Read all lines and save as a list\n",
    "\n",
    "with open(example1, \"r\") as file1:\n",
    "    FileasList = file1.readlines()\n",
    "    \n",
    "FileasList"
   ]
  },
  {
   "attachments": {},
   "cell_type": "markdown",
   "metadata": {},
   "source": [
    "## Write File"
   ]
  },
  {
   "cell_type": "code",
   "execution_count": 37,
   "metadata": {},
   "outputs": [],
   "source": [
    "# Write line to file\n",
    "\n",
    "exmp2 = '../data/Example2.txt'\n",
    "\n",
    "with open(exmp2, 'w') as writefile:\n",
    "    writefile.write(\"This is line A\")"
   ]
  },
  {
   "cell_type": "code",
   "execution_count": 38,
   "metadata": {},
   "outputs": [
    {
     "name": "stdout",
     "output_type": "stream",
     "text": [
      "This is line A\n"
     ]
    }
   ],
   "source": [
    "# Read file\n",
    "\n",
    "with open(exmp2, 'r') as testwritefile:\n",
    "    print(testwritefile.read())"
   ]
  },
  {
   "cell_type": "code",
   "execution_count": 39,
   "metadata": {},
   "outputs": [],
   "source": [
    "# Write lines to file\n",
    "\n",
    "with open(exmp2, 'w') as writefile:\n",
    "    writefile.write(\"This is line A\\n\")\n",
    "    writefile.write(\"This is line B\\n\")"
   ]
  },
  {
   "cell_type": "code",
   "execution_count": 41,
   "metadata": {},
   "outputs": [
    {
     "name": "stdout",
     "output_type": "stream",
     "text": [
      "This is line A\n",
      "\n",
      "This is line B\n",
      "\n",
      "This is line C\n",
      "\n"
     ]
    }
   ],
   "source": [
    "# Write the strings in the list to text file\n",
    "\n",
    "Lines = [\"This is line A\\n\", \"This is line B\\n\", \"This is line C\\n\"]\n",
    "\n",
    "with open(exmp2, 'w') as writefile:\n",
    "    for line in Lines:\n",
    "        print(line)\n",
    "        writefile.write(line)"
   ]
  },
  {
   "cell_type": "code",
   "execution_count": 42,
   "metadata": {},
   "outputs": [],
   "source": [
    "# Write a new line to text file with append mode\n",
    "\n",
    "with open(exmp2, 'a') as testwritefile:\n",
    "    testwritefile.write(\"This is line C\\n\")\n",
    "    testwritefile.write(\"This is line D\\n\")\n",
    "    testwritefile.write(\"This is line E\\n\")"
   ]
  },
  {
   "cell_type": "code",
   "execution_count": 43,
   "metadata": {},
   "outputs": [
    {
     "name": "stdout",
     "output_type": "stream",
     "text": [
      "This is line A\n",
      "This is line B\n",
      "This is line C\n",
      "This is line C\n",
      "This is line D\n",
      "This is line E\n",
      "\n"
     ]
    }
   ],
   "source": [
    "# Verify if the new line is in the text file\n",
    "\n",
    "with open(exmp2, 'r') as testwritefile:\n",
    "    print(testwritefile.read())"
   ]
  },
  {
   "attachments": {},
   "cell_type": "markdown",
   "metadata": {},
   "source": [
    "It's fairly ineffecient to open the file in **a** or **w** and then reopening it in **r** to read any lines. Luckily we can access the file in the following modes:\n",
    "- **r+** : Reading and writing. Cannot truncate the file.\n",
    "- **w+** : Writing and reading. Truncates the file.\n",
    "- **a+** : Appending and Reading. Creates a new file, if none exists."
   ]
  },
  {
   "cell_type": "code",
   "execution_count": 45,
   "metadata": {},
   "outputs": [
    {
     "name": "stdout",
     "output_type": "stream",
     "text": [
      "This is line A\n",
      "This is line B\n",
      "This is line C\n",
      "This is line C\n",
      "This is line D\n",
      "This is line E\n",
      "This is line E\n",
      "This is line E\n",
      "\n"
     ]
    }
   ],
   "source": [
    "with open(exmp2, 'a+') as testwritefile:\n",
    "    testwritefile.write(\"This is line E\\n\")\n",
    "    testwritefile.seek(0,0) # move 0 bytes from beginning.\n",
    "    print(testwritefile.read())"
   ]
  },
  {
   "cell_type": "code",
   "execution_count": null,
   "metadata": {},
   "outputs": [],
   "source": [
    "header=['index','planets']\n",
    "output=open(os.path.join('..', 'data', 'temp.csv'), 'w')\n",
    "mywriter=csv.writer(output)\n",
    "mywriter.writerow(header)\n",
    "mywriter.writerow([1,'earth'])\n",
    "output.close()"
   ]
  },
  {
   "attachments": {},
   "cell_type": "markdown",
   "metadata": {},
   "source": [
    "## Assignment - OOPs"
   ]
  },
  {
   "attachments": {},
   "cell_type": "markdown",
   "metadata": {},
   "source": [
    "## Python OOP Assignment\n",
    "\n",
    "Q1. What is the purpose of Python's OOP?\n",
    "\n",
    "> Python OOP concept helps us to solve complex problems by using objects(Similar to real world)\n",
    "> OOP has other advantages like Encapsulation, Ploymorphism, Abstraction, Inheritance, etc.\n",
    "\n",
    "Q2. Where does an inheritance search look for an attribute?\n",
    "\n",
    "> In an inheritance the attribute is first serached in the class the object was created. Later it will search in the upper super classes.\n",
    "\n",
    "Q3. How do you distinguish between a class object and an instance object?\n",
    "\n",
    "> Instance object is always associated with self keyword & it is bound yo a particular object.\n",
    "> Class object is bound to a class & hence self keyword is not used.\n",
    "\n",
    "Q4. What makes the first argument in a class’s method function special?\n",
    "\n",
    "> In a class the first argument is self keyword. It is nothing but a refernce to the object who called that method.\n",
    "\n",
    "Q5. What is the purpose of the init method?\n",
    "\n",
    "> \\__init\\__() method in a class is a constructor of that calss.\n",
    "> It gets called as soon as an object is created.\n",
    "\n",
    "Q6. What is the process for creating a class instance?\n",
    "\n",
    "> Class instance can be created anywhere in the body of class.\n",
    "> We can declare & define it similar to any other variable declartion without the self keyword.\n",
    "\n",
    "Q7. What is the process for creating a class?\n",
    "\n",
    "> Class is created using the *class* keyword.\n",
    "\n",
    "```\n",
    "# Creating blank class\n",
    "class Data():\n",
    "\tpass\n",
    "\n",
    "# Creating a class with a constructor\n",
    "class Data()\n",
    "\tdef __init__(self):\n",
    "\t\tprint(\"Welcome to the Data class\")\n",
    "```\n",
    "\n",
    "Q8. How would you define the superclasses of a class?\n",
    "\n",
    "> The super classes of the class are the parent class from which the sub-class was created.\n",
    "> The charecteristics of super class are inherited in sub-class.\n",
    "\n",
    "Q9. What is the relationship between classes and modules?\n",
    "\n",
    "> Classes in Python are the collection of attributes & methods. These can be used only by the objects of the class or the derived class.\n",
    "> Modules in Python are a way to organize code. It can consists of sunctions, classes, methods, etc. We can import the module and use it wherever required.\n",
    "\n",
    "Q10. How do you make instances and classes?\n",
    "\n",
    "> Class is created using the *class* keyword & we can define the class attributes & methods inside it.\n",
    "> To create instances of a Class we need to create the class objects by passing the arguments if required.\n",
    "\n",
    "```\n",
    "# Creating a class\n",
    "class Employee():\n",
    "\tcompany_name = \"Google\"\n",
    "\n",
    "\tdef __init__(self, name, country):\n",
    "\t\tself.name = name\n",
    "\t\tself.country = country\n",
    "\n",
    "\tdef display(self):\n",
    "\t\tprint(f\"My name is {self.name} and I am from {self.country}, working at {Employee.company_name}\")\n",
    "\t\n",
    "# Creating instance/object\n",
    "emp_1 = Employee('Vivek', 'India')\n",
    "emp_1.display()\n",
    "```\n",
    "\n",
    "Q11. Where and how should be class attributes created?\n",
    "\n",
    "> Class attributes should be created directly inside the body of Class.\n",
    "> We can aslo declafe a class attribute outside the class using Class name as prefix.\n",
    "\n",
    "```\n",
    "class Example():\n",
    "\t# Class attribute\n",
    "\tcount = 5\n",
    "\tdef __init__(self):\n",
    "\t\tpass\n",
    "print(Example.count) # Output -> 5\n",
    "# Class attribute declared outside of the class\n",
    "Example.type = 'Outside'\n",
    "print(Example.type)\n",
    "```\n",
    "\n",
    "Q12. Where and how are instance attributes created?\n",
    "\n",
    "> Instance attributes are mostly created inside the constructor. It can also be created in a method.\n",
    "> Note that self keyword is required to create the instance attribute.\n",
    "> We can also create the instance attributes outside the class using the object name as prefix.\n",
    "\n",
    "```\n",
    "class Person():\n",
    "\n",
    "    def __init__(self, name):\n",
    "        # Instance attribute declared inside the class\n",
    "        self.name = name\n",
    "\n",
    "    def disp(self):\n",
    "        print(\"Name:\", self.name, \"& Age:\", self.age)\n",
    "\n",
    "e1 = Person('abc')\n",
    "e2 = Person('xyz')\n",
    "\n",
    "# Instance attributes declared outside of the class\n",
    "e1.age = 20\n",
    "e2.age = 30\n",
    "\n",
    "e1.disp() # Outout -> Name: abc & Age: 20\n",
    "e2.disp() # Output -> Name: xyz & Age: 30\n",
    "```\n",
    "\n",
    "Q13. What does the term \"self\" in a Python class mean?\n",
    "\n",
    "> self keyword in python is used to reference the object of the class which instanciated.\n",
    "\n",
    "Q14. How does a Python class handle operator overloading?\n",
    "\n",
    "> In Python operator overloading is handled based on the datatype of the operands/arguments passed to it.\n",
    "\n",
    "Q15. When do you consider allowing operator overloading of your classes?\n",
    "\n",
    "> Whenever we need to handle the data differently based on the datatype of the operands, we will go ahead with operator overloading.\n",
    "\n",
    "Q16. What is the most popular form of operator overloading?\n",
    "\n",
    "> '+' operator is most popular form of operator overloading. It is used to add integers or floats and at the same time it is also used to concatinate strings.\n",
    "\n",
    "Q17. What are the two most important concepts to grasp in order to comprehend Python OOP code?\n",
    "\n",
    "> Inheritance & Polymorphism are the two most important concepts in Python OOP.\n",
    "\n",
    "Q18. Describe three applications for exception processing.\n",
    "\n",
    "1. To handle divide by zero\n",
    "2. To handle index out of range error\n",
    "3. To handle wrong key name for dictionaries\n",
    "\n",
    "Q19. What happens if you don't do something extra to treat an exception?\n",
    "\n",
    "> The program will throw error & stop the further execution if we do not handle the exceptions.\n",
    "\n",
    "Q20. What are your options for recovering from an exception in your script?\n",
    "\n",
    "> We can use try & except to handle the exception in our script.\n",
    "\n",
    "Q21. Describe two methods for triggering exceptions in your script.\n",
    "\n",
    "1. Dividing a value by zero will trigger exception.\n",
    "2. Accessing a dictionary using wrong key will trigger exception.\n",
    "\n",
    "Q22. Identify two methods for specifying actions to be executed at termination time, regardless ofwhether or not an exception exists.\n",
    "\n",
    "> finally is used to execute the code regardless of whether or not an exception exists.\n",
    "\n",
    "Q23. What is the purpose of the try statement?\n",
    "\n",
    "> try statement is used to check the error-prone code.\n",
    "\n",
    "Q24. What are the two most popular try statement variations?\n",
    "\n",
    "1. try/except/else\n",
    "2. try/except/finally\n",
    "\n",
    "Q25. What is the purpose of the raise statement?\n",
    "\n",
    "> raise statement is used to raise user defined exceptions.\n",
    "\n",
    "Q26. What does the assert statement do, and what other statement is it like?\n",
    "\n",
    "> The assert statement generates AssertionError if a condition is False. It is similar to raise statement.\n",
    "\n",
    "Q27. What is the purpose of the with/as argument, and what other statement is it like?\n",
    "\n",
    "> with statement is used to handle file management in Python. It is similar to except statement as it handles the errors related to files access.\n",
    "\n",
    "Q28. What are *args, **kwargs?\n",
    "\n",
    "- *args -> It is used to accept any number of arguments to the function\n",
    "- **kwrags -> It is used to accept any no. of arguments in any sequence in the form of key-value pairs.\n",
    "\n",
    "Q29. How can I pass optional or keyword parameters from one function to another?\n",
    "\n",
    "> We can pass optional or keyword parameters from one function to another using *args & **kwargs\n",
    "\n",
    "```\n",
    "def func1(*args, **kwrags):\n",
    "\tprint('func1() passing optional or keyword parameters to func2()')\n",
    "\tfunc2(*args, **kwrags)\n",
    "\n",
    "def func2(*args, **kwrags):\n",
    "\tpass\n",
    "\n",
    "```\n",
    "\n",
    "Q30. What are Lambda Functions?\n",
    "\n",
    "> lambda functions are one line functionswhich can accept any no. of arguments but can have only on expression\n",
    "\n",
    "Q31. Explain Inheritance in Python with an example?\n",
    "\n",
    "> Inheritance in Python is used to inherit the properties of parent class into the child class.\n",
    "\n",
    "```\n",
    "class DataDomain():\n",
    "    basic_skills = ['Python', 'SQL', 'Problem Solving']\n",
    "    tools = [] # Default blank list of tools to avoid errors as it is specific only for DataAnalysis calss\n",
    "    def __init__(self, name, advance_skills):\n",
    "        self.name =name\n",
    "        self.advance_skills = advance_skills\n",
    "\n",
    "    def skills(self):\n",
    "        print(f\"{self.name} has these skills -> {self.basic_skills + self.advance_skills + self.tools}\")\n",
    "\n",
    "class DataEngineering(DataDomain):\n",
    "    pass\n",
    "\n",
    "class DataAnalysis(DataDomain):\n",
    "    def __init__(self, name, advance_skills, tools):\n",
    "        super().__init__(name, advance_skills)\n",
    "        self.tools = tools\n",
    "\n",
    "class DataScience(DataDomain):\n",
    "    def __init__(self, name, advance_skills):\n",
    "        super().__init__(name, advance_skills)\n",
    "\n",
    "emp1 = DataDomain('Dave', ['Management', 'Leadership'])\n",
    "emp1.skills()\n",
    "\n",
    "emp2 = DataEngineering('Mike', ['Scala', 'Hadoop', 'Spark'])\n",
    "emp2.skills()\n",
    "\n",
    "emp3 = DataAnalysis('Tom', ['Stats', 'Dashboarding'], ['Tableau', 'PowerBI'])\n",
    "emp3.skills()\n",
    "```\n",
    "\n",
    "Q32. Suppose class C inherits from classes A and B as class C(A,B).Classes A and B both have their own versions of method func(). If we call func() from an object of class C, which version gets invoked?\n",
    "\n",
    "> The version of func() from class A will be called because while inherting the class C we have written A before B.\n",
    "\n",
    "Q33. Which methods/functions do we use to determine the type of instance and inheritance?\n",
    "\n",
    "> Python has two built-in functions that work with inheritance:\n",
    ">\n",
    "> 1. Use isinstance() to check an instance’s type: isinstance(obj, int) will be True only if obj.__class__ is int or some class derived from int.\n",
    "> 2. Use issubclass() to check class inheritance: issubclass(bool, int) is True since bool is a subclass of int. However, issubclass(float, int) is False since float is not a subclass of int.\n",
    "\n",
    "Q34.Explain the use of the 'nonlocal' keyword in Python.\n",
    "\n",
    "- nonlocal keyword is mostly used in nested functions.\n",
    "- It is used in inner function to declare its variable as nonlocal so that its value can be used by the outer function.\n",
    "\n",
    "Q35. What is the global keyword?\n",
    "\n",
    "- global keyword id used to declare a global variable inside function.\n",
    "- We can access this global variable outside the function as well."
   ]
  }
 ],
 "metadata": {
  "kernelspec": {
   "display_name": "env-spacy",
   "language": "python",
   "name": "python3"
  },
  "language_info": {
   "codemirror_mode": {
    "name": "ipython",
    "version": 3
   },
   "file_extension": ".py",
   "mimetype": "text/x-python",
   "name": "python",
   "nbconvert_exporter": "python",
   "pygments_lexer": "ipython3",
   "version": "3.9.7"
  },
  "orig_nbformat": 4,
  "vscode": {
   "interpreter": {
    "hash": "343191058819caea96d5cde1bd3b1a75b4807623ce2cda0e1c8499e39ac847e3"
   }
  }
 },
 "nbformat": 4,
 "nbformat_minor": 2
}
